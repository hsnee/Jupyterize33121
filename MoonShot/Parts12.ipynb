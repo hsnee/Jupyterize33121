{
 "cells": [
  {
   "cell_type": "markdown",
   "metadata": {
    "slideshow": {
     "slide_type": "slide"
    }
   },
   "source": [
    "# Parts 1 & 2: Performing a simple moonshot"
   ]
  },
  {
   "cell_type": "markdown",
   "metadata": {},
   "source": [
    "Import functions from vpython. You can alternatively import all functions by using *from vpython import ** but that is not preferred because it may overwrite pre-existing python functions."
   ]
  },
  {
   "cell_type": "code",
   "execution_count": 1,
   "metadata": {
    "collapsed": false,
    "slideshow": {
     "slide_type": "fragment"
    }
   },
   "outputs": [
    {
     "data": {
      "application/javascript": [
       "require.undef(\"nbextensions/jquery-ui.custom.min\");"
      ],
      "text/plain": [
       "<IPython.core.display.Javascript object>"
      ]
     },
     "metadata": {},
     "output_type": "display_data"
    },
    {
     "data": {
      "application/javascript": [
       "require.undef(\"nbextensions/glow.2.1a.min\");"
      ],
      "text/plain": [
       "<IPython.core.display.Javascript object>"
      ]
     },
     "metadata": {},
     "output_type": "display_data"
    },
    {
     "data": {
      "application/javascript": [
       "require.undef(\"nbextensions/glow.2.1b.min\");"
      ],
      "text/plain": [
       "<IPython.core.display.Javascript object>"
      ]
     },
     "metadata": {},
     "output_type": "display_data"
    },
    {
     "data": {
      "application/javascript": [
       "require.undef(\"nbextensions/glowcomm\");"
      ],
      "text/plain": [
       "<IPython.core.display.Javascript object>"
      ]
     },
     "metadata": {},
     "output_type": "display_data"
    },
    {
     "data": {
      "application/javascript": [
       "require([\"nbextensions/glowcomm\"], function(){console.log(\"glowcomm loaded\");})"
      ],
      "text/plain": [
       "<IPython.core.display.Javascript object>"
      ]
     },
     "metadata": {},
     "output_type": "display_data"
    },
    {
     "data": {
      "text/html": [
       "<div id=\"glowscript\" class=\"glowscript\"></div>"
      ],
      "text/plain": [
       "<IPython.core.display.HTML object>"
      ]
     },
     "metadata": {},
     "output_type": "display_data"
    },
    {
     "data": {
      "application/javascript": [
       "window.__context = { glowscript_container: $(\"#glowscript\").removeAttr(\"id\")}"
      ],
      "text/plain": [
       "<IPython.core.display.Javascript object>"
      ]
     },
     "metadata": {},
     "output_type": "display_data"
    }
   ],
   "source": [
    "from vpython import vector, sphere, cylinder, curve, color, graph, gcurve, rate, dot, canvas, mag"
   ]
  },
  {
   "cell_type": "markdown",
   "metadata": {},
   "source": [
    "# Create objects for display\n",
    "\n",
    "Let's set the scene, create Earth and Moon as spheres, the ship as a cylinder and a trail that follows the ship."
   ]
  },
  {
   "cell_type": "code",
   "execution_count": 2,
   "metadata": {
    "collapsed": false,
    "slideshow": {
     "slide_type": "slide"
    }
   },
   "outputs": [],
   "source": [
    "moonlocation=vector(4.0e8,0,0)"
   ]
  },
  {
   "cell_type": "code",
   "execution_count": 3,
   "metadata": {
    "collapsed": false,
    "slideshow": {
     "slide_type": "fragment"
    }
   },
   "outputs": [
    {
     "data": {
      "text/html": [
       "<div id=\"glowscript\" class=\"glowscript\"></div>"
      ],
      "text/plain": [
       "<IPython.core.display.HTML object>"
      ]
     },
     "metadata": {},
     "output_type": "display_data"
    },
    {
     "data": {
      "application/javascript": [
       "window.__context = { glowscript_container: $(\"#glowscript\").removeAttr(\"id\")}"
      ],
      "text/plain": [
       "<IPython.core.display.Javascript object>"
      ]
     },
     "metadata": {},
     "output_type": "display_data"
    }
   ],
   "source": [
    "scene=canvas(title=\"Voyage to the Moon\",\n",
    "              width=800,height=400);scene\n"
   ]
  },
  {
   "cell_type": "code",
   "execution_count": 4,
   "metadata": {
    "collapsed": false,
    "slideshow": {
     "slide_type": "subslide"
    }
   },
   "outputs": [],
   "source": [
    "earth = sphere(pos=vector(0,0,0), radius=6.4e6, color=color.blue)\n",
    "moon  = sphere(pos=moonlocation,radius=6.4e6, color=color.cyan)\n",
    "ship = cylinder(axis=vector(5e6,0,0), radius=2e6)\n",
    "trail = curve(color=ship.color)"
   ]
  },
  {
   "cell_type": "markdown",
   "metadata": {
    "slideshow": {
     "slide_type": "slide"
    }
   },
   "source": [
    "# Create Graphs for the energy and work display"
   ]
  },
  {
   "cell_type": "code",
   "execution_count": 5,
   "metadata": {
    "collapsed": false,
    "slideshow": {
     "slide_type": "fragment"
    }
   },
   "outputs": [],
   "source": [
    "energyplot = graph(x=0,y=200,xmin=0,xmax=0.98*moonlocation.x,\n",
    "                      ymin=-2E10,ymax=2E10,\n",
    "        #              title='Energy versus position',\n",
    "                      xtitle='Ship Position',\n",
    "                      ytitle='Energy')\n",
    "U_Graph=gcurve(color=color.blue)\n",
    "K_Graph=gcurve(color=color.green)\n",
    "W_Graph=gcurve(color=color.yellow)\n",
    "KU_Graph=gcurve(color=color.red)\n"
   ]
  },
  {
   "cell_type": "markdown",
   "metadata": {
    "slideshow": {
     "slide_type": "slide"
    }
   },
   "source": [
    "# Set constants"
   ]
  },
  {
   "cell_type": "code",
   "execution_count": 6,
   "metadata": {
    "collapsed": false,
    "run_control": {
     "marked": false
    },
    "slideshow": {
     "slide_type": "fragment"
    }
   },
   "outputs": [],
   "source": [
    "G=6.67E-11\n",
    "initial_speed = 12500.  \n",
    "earth.mass = 6.0e24\n",
    "moon.mass = 6.0e24  \n",
    "moon.radius= 6.4e6    \n",
    "ship.mass = 173\n",
    "dt= 100"
   ]
  },
  {
   "cell_type": "markdown",
   "metadata": {
    "slideshow": {
     "slide_type": "slide"
    }
   },
   "source": [
    "# Set initial values for things that change"
   ]
  },
  {
   "cell_type": "markdown",
   "metadata": {},
   "source": [
    "$\\vec{p}_{ship}=M_{ship} \\times \\vec{v}_{i}$"
   ]
  },
  {
   "cell_type": "code",
   "execution_count": 7,
   "metadata": {
    "collapsed": false,
    "slideshow": {
     "slide_type": "fragment"
    }
   },
   "outputs": [],
   "source": [
    "ship.pos = vector(+(earth.radius+50000),0,0)\n",
    "ship.Vmomentum = vector(ship.mass*initial_speed,0,0)\n",
    "t = 0\n",
    "Work = 0\n",
    "crash = 0"
   ]
  },
  {
   "cell_type": "markdown",
   "metadata": {},
   "source": [
    "Let's calculate the *new* positions, forces, momenta, energies, and work inside the loop:"
   ]
  },
  {
   "cell_type": "markdown",
   "metadata": {},
   "source": [
    "Gravitational Force $\\vec{F}_{g}= - GMm\\frac{\\vec{r}}{\\mid{\\vec{r}^3}\\mid}$"
   ]
  },
  {
   "cell_type": "markdown",
   "metadata": {},
   "source": [
    "Momentum $\\vec{p} = \\vec{p}_i + \\vec{F}_g \\Delta t$"
   ]
  },
  {
   "cell_type": "markdown",
   "metadata": {},
   "source": [
    "Potential Energy $U = - G\\frac{Mm}{r}$"
   ]
  },
  {
   "cell_type": "markdown",
   "metadata": {},
   "source": [
    "Kinetic Energy $K = \\frac{\\mid \\vec{p}^2 \\mid}{2m}$"
   ]
  },
  {
   "cell_type": "markdown",
   "metadata": {},
   "source": [
    "Work $W = W_i + \\vec{F_g} \\cdot \\Delta\\vec{r}$"
   ]
  },
  {
   "cell_type": "code",
   "execution_count": 8,
   "metadata": {
    "collapsed": true
   },
   "outputs": [],
   "source": [
    "scene.autoscale=0"
   ]
  },
  {
   "cell_type": "code",
   "execution_count": 9,
   "metadata": {
    "collapsed": false,
    "scrolled": true,
    "slideshow": {
     "slide_type": "slide"
    }
   },
   "outputs": [
    {
     "name": "stdout",
     "output_type": "stream",
     "text": [
      "ship crashed on the moon at time  64900 seconds\n",
      "ship's initial speed  12500.0\n",
      "ship's final speed  12774.678568457808\n"
     ]
    }
   ],
   "source": [
    "while (crash==0):\n",
    "    rate(100)\n",
    "  \n",
    "    Vr1 = ship.pos-earth.pos\n",
    "    VForceEarth = -G*earth.mass*ship.mass*ship.pos/mag(ship.pos)**3 \n",
    "    Vr2 = ship.pos-moon.pos\n",
    "    VForceMoon = -G*moon.mass*ship.mass*Vr2/mag(Vr2)**3\n",
    "    ship.Vforce = VForceEarth + VForceMoon\n",
    "    Vdelta_r = (ship.Vmomentum/ship.mass)*dt\n",
    "    ship.Vmomentum = ship.Vmomentum + ship.Vforce*dt\n",
    "    ship.pos      = ship.pos + Vdelta_r\n",
    "    UEarthShip = -G*earth.mass*ship.mass/mag(ship.pos) \n",
    "    UMoonShip = -G*moon.mass*ship.mass/mag(Vr2)\n",
    "    U=UEarthShip+UMoonShip\n",
    "    K    = mag(ship.Vmomentum)**2/(2.*ship.mass)\n",
    "    Work = Work + dot(ship.Vforce,Vdelta_r)\n",
    "    \n",
    "    U_Graph.plot(pos=(ship.pos.x,U))\n",
    "    K_Graph.plot(pos=(ship.pos.x,K))\n",
    "    KU_Graph.plot(pos=(ship.pos.x,K+U))\n",
    "    W_Graph.plot(pos=(ship.pos.x,Work))\n",
    "\n",
    "    trail.append(pos=ship.pos)\n",
    "    t=t+dt\n",
    "    if (mag(ship.pos-earth.pos) <= earth.radius ):\n",
    "        print (\"ship crashed back on the earth\")\n",
    "        crash=1\n",
    "    elif (mag(ship.pos -moon.pos )< (moon.radius+50000) ) :\n",
    "        print (\"ship crashed on the moon at time \",t, \"seconds\")\n",
    "        print (\"ship's initial speed \", initial_speed)\n",
    "        print (\"ship's final speed \", mag(ship.Vmomentum)/ship.mass)\n",
    "        crash=1\n",
    "        "
   ]
  },
  {
   "cell_type": "markdown",
   "metadata": {},
   "source": [
    "Go to [Part 3](Part3.ipynb)"
   ]
  }
 ],
 "metadata": {
  "kernelspec": {
   "display_name": "Python 3",
   "language": "python",
   "name": "python3"
  },
  "language_info": {
   "codemirror_mode": {
    "name": "ipython",
    "version": 3
   },
   "file_extension": ".py",
   "mimetype": "text/x-python",
   "name": "python",
   "nbconvert_exporter": "python",
   "pygments_lexer": "ipython3",
   "version": "3.5.0"
  },
  "widgets": {
   "state": {},
   "version": "1.1.2"
  }
 },
 "nbformat": 4,
 "nbformat_minor": 0
}
