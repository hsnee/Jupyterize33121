{
 "cells": [
  {
   "cell_type": "markdown",
   "metadata": {
    "slideshow": {
     "slide_type": "slide"
    }
   },
   "source": [
    "# Parts 1 & 2: Performing a simple moonshot"
   ]
  },
  {
   "cell_type": "markdown",
   "metadata": {},
   "source": [
    "Import functions from vpython. You can alternatively import all functions by using *from vpython import ** but that is not preferred because it may overwrite pre-existing python functions."
   ]
  },
  {
   "cell_type": "code",
   "execution_count": null,
   "metadata": {
    "collapsed": false,
    "slideshow": {
     "slide_type": "fragment"
    }
   },
   "outputs": [],
   "source": [
    "from vpython import vector, sphere, cylinder, curve, color, graph, gdots, gvbars, gcurve, rate, dot, canvas, mag"
   ]
  },
  {
   "cell_type": "markdown",
   "metadata": {},
   "source": [
    "# Create objects for display\n",
    "\n",
    "Let's set the scene, create Earth and Moon as spheres, the ship as a cylinder and a trail that follows the ship."
   ]
  },
  {
   "cell_type": "code",
   "execution_count": null,
   "metadata": {
    "collapsed": false,
    "slideshow": {
     "slide_type": "slide"
    }
   },
   "outputs": [],
   "source": [
    "moonlocation=vector(4.0e8,0,0)"
   ]
  },
  {
   "cell_type": "code",
   "execution_count": null,
   "metadata": {
    "collapsed": false,
    "slideshow": {
     "slide_type": "fragment"
    }
   },
   "outputs": [],
   "source": [
    "scene=canvas(title=\"Voyage to the Moon\",\n",
    "              width=800,height=400);scene"
   ]
  },
  {
   "cell_type": "code",
   "execution_count": null,
   "metadata": {
    "collapsed": false,
    "slideshow": {
     "slide_type": "subslide"
    }
   },
   "outputs": [],
   "source": [
    "earth = sphere(pos=vector(0,0,0), radius=6.4e6, color=color.blue)\n",
    "moon  = sphere(pos=moonlocation,radius=6.4e6, color=color.cyan)\n",
    "ship = cylinder(axis=vector(5e6,0,0), radius=2e6)\n",
    "trail = curve(color=ship.color)"
   ]
  },
  {
   "cell_type": "markdown",
   "metadata": {
    "slideshow": {
     "slide_type": "slide"
    }
   },
   "source": [
    "# Create Graphs for the energy and work display"
   ]
  },
  {
   "cell_type": "markdown",
   "metadata": {},
   "source": [
    "This next block of code will just initialize the graphs, but the actual plotting will be done later $–$ can you identify where?"
   ]
  },
  {
   "cell_type": "code",
   "execution_count": null,
   "metadata": {
    "collapsed": false,
    "slideshow": {
     "slide_type": "fragment"
    }
   },
   "outputs": [],
   "source": [
    "energyplot = graph(x=0,y=200,xmin=0,xmax=0.98*moonlocation.x,\n",
    "                      ymin=-2E10,ymax=2E10,\n",
    "                      xtitle='Ship Position',\n",
    "                      ytitle='Energy')\n",
    "U_Graph=gcurve(color=color.blue)\n",
    "K_Graph=gcurve(color=color.green)\n",
    "W_Graph=gdots(color=color.black, size=0.1)\n",
    "KU_Graph=gvbars(color=color.red)"
   ]
  },
  {
   "cell_type": "markdown",
   "metadata": {
    "slideshow": {
     "slide_type": "slide"
    }
   },
   "source": [
    "# Set constants"
   ]
  },
  {
   "cell_type": "markdown",
   "metadata": {},
   "source": [
    "These are the values for some constants that we will be using later $–$ We are using an initial speed of 12500 m/s, and setting both the Earth's mass and the Moon's mass to $6 \\times 10^{24}$. This will be different from the more realistic situations in the following parts where we "
   ]
  },
  {
   "cell_type": "code",
   "execution_count": null,
   "metadata": {
    "collapsed": false,
    "run_control": {
     "marked": false
    },
    "slideshow": {
     "slide_type": "fragment"
    }
   },
   "outputs": [],
   "source": [
    "G=6.67E-11\n",
    "initial_speed = 12500.  \n",
    "earth.mass = 6.0e24\n",
    "moon.mass = 6.0e24  \n",
    "moon.radius= 6.4e6    \n",
    "ship.mass = 173\n",
    "dt= 100"
   ]
  },
  {
   "cell_type": "markdown",
   "metadata": {
    "slideshow": {
     "slide_type": "slide"
    }
   },
   "source": [
    "# Set initial values for things that change"
   ]
  },
  {
   "cell_type": "markdown",
   "metadata": {},
   "source": [
    "In the following block, we are setting the position of the ship, and its momentum $\\vec{p}_{ship}=M_{ship} \\times \\vec{v}_{i}$. \n",
    "\n",
    "We are also initialising values for time, work, and setting an initial value for crash (0 if ship has not crashed yet, and 1 if it has crashed). These are essential so that they can be used later in the loop."
   ]
  },
  {
   "cell_type": "code",
   "execution_count": null,
   "metadata": {
    "collapsed": false,
    "slideshow": {
     "slide_type": "fragment"
    }
   },
   "outputs": [],
   "source": [
    "ship.pos = vector(+(earth.radius+50000),0,0)\n",
    "ship.Vmomentum = vector(ship.mass*initial_speed,0,0)\n",
    "t = 0\n",
    "Work = 0\n",
    "crash = 0"
   ]
  },
  {
   "cell_type": "markdown",
   "metadata": {},
   "source": [
    "Before we run the main loop, let's just tell VPython that we don't want it to keep rescaling the simulation $-$ otherwise, it might look weird (feel free to redo this and skip the next line later to see what I mean, but definitely run it if this is your first time you're running the program)"
   ]
  },
  {
   "cell_type": "code",
   "execution_count": null,
   "metadata": {
    "collapsed": true
   },
   "outputs": [],
   "source": [
    "scene.autoscale=0"
   ]
  },
  {
   "cell_type": "markdown",
   "metadata": {},
   "source": [
    "Now, we're gonna use a loop to calculate, at a certain number of iteration (defined by *rate*) the following quantities. Can you identify which line of code corresponds to which equation?"
   ]
  },
  {
   "cell_type": "markdown",
   "metadata": {},
   "source": [
    "Gravitational Force $\\vec{F}_{g}= - GMm\\frac{\\vec{r}}{\\mid{\\vec{r}^3}\\mid}$\n",
    "\n",
    "Momentum $\\vec{p} = \\vec{p}_i + \\vec{F}_g \\Delta t$\n",
    "\n",
    "Potential Energy $U = - G\\frac{Mm}{r}$\n",
    "\n",
    "Kinetic Energy $K = \\frac{\\mid \\vec{p}^2 \\mid}{2m}$\n",
    "\n",
    "Work $W = W_i + \\vec{F_g} \\cdot \\Delta\\vec{r}$\n",
    "\n",
    "we are then gonna update the position and velocity of the ship at every iteration and plot them, along with energies and work. Scroll up immediately after you run the next cell to see what happens to the simulation and graphs."
   ]
  },
  {
   "cell_type": "code",
   "execution_count": null,
   "metadata": {
    "collapsed": false,
    "scrolled": false,
    "slideshow": {
     "slide_type": "slide"
    }
   },
   "outputs": [],
   "source": [
    "while (crash==0):\n",
    "    rate(100)\n",
    "  \n",
    "    Vr1 = ship.pos-earth.pos\n",
    "    VForceEarth = -G*earth.mass*ship.mass*ship.pos/mag(ship.pos)**3 \n",
    "    Vr2 = ship.pos-moon.pos\n",
    "    VForceMoon = -G*moon.mass*ship.mass*Vr2/mag(Vr2)**3\n",
    "    ship.Vforce = VForceEarth + VForceMoon\n",
    "    Vdelta_r = (ship.Vmomentum/ship.mass)*dt\n",
    "    ship.Vmomentum = ship.Vmomentum + ship.Vforce*dt\n",
    "    ship.pos      = ship.pos + Vdelta_r\n",
    "    UEarthShip = -G*earth.mass*ship.mass/mag(ship.pos) \n",
    "    UMoonShip = -G*moon.mass*ship.mass/mag(Vr2)\n",
    "    U=UEarthShip+UMoonShip\n",
    "    K    = mag(ship.Vmomentum)**2/(2.*ship.mass)\n",
    "    Work = Work + dot(ship.Vforce,Vdelta_r)\n",
    "    \n",
    "    U_Graph.plot(pos=(ship.pos.x,U))\n",
    "    K_Graph.plot(pos=(ship.pos.x,K))\n",
    "    KU_Graph.plot(pos=(ship.pos.x,K+U))\n",
    "    W_Graph.plot(pos=(ship.pos.x,Work))\n",
    "\n",
    "    trail.append(pos=ship.pos)\n",
    "    t=t+dt\n",
    "    if (mag(ship.pos-earth.pos) <= earth.radius ):\n",
    "        print (\"ship crashed back on the earth\")\n",
    "        crash=1\n",
    "    elif (mag(ship.pos -moon.pos )< (moon.radius+50000) ) :\n",
    "        print (\"ship crashed on the moon at time \",t, \"seconds\")\n",
    "        print (\"ship's initial speed \", initial_speed)\n",
    "        print (\"ship's final speed \", mag(ship.Vmomentum)/ship.mass)\n",
    "        crash=1\n",
    "        "
   ]
  },
  {
   "cell_type": "markdown",
   "metadata": {},
   "source": [
    "* Why is it useful to make these type of calculations inside the loop?\n",
    "\n",
    "&nbsp;\n",
    "    \n",
    "    \n",
    "&nbsp;\n",
    "  \n",
    "* Identify the equations that you calculated in part 0 from the loop. Identify which are vectors and which are scalars.\n",
    "\n",
    "&nbsp;\n",
    "    \n",
    "    \n",
    "&nbsp;\n",
    "    \n",
    "* Use the code to identify what the graphs represent, and either reproduce them electronically and print them (to do this, you can go to File → Download as: either HTML or PDF and print) or sketch them by hand, and write down what each graph **precisely** represents. (i.e. saying \"potential energy\" is not enough, instead, specify potential energy of what, due to what...) You may have to dig a bit deeper in the code to find this.\n",
    "\n",
    "    * Green: \n",
    "    * Blue: \n",
    "    * Red (shaded):\n",
    "    * Black (dotted):\n",
    "\n",
    "\n",
    "* How did the energies change throughout?\n",
    "    \n",
    "&nbsp;\n",
    "    \n",
    "    \n",
    "&nbsp; \n",
    "    \n",
    "* Starting from an energy prespective, calculate the final velocity of the ship, and compare to the initial velocity. It should be similar to what the program outputs, but it's okay if it's slightly different since the program calculates it numerically, which is not an exact method.\n",
    "    \n",
    "&nbsp;\n",
    "    \n",
    "    \n",
    "&nbsp; \n",
    "    "
   ]
  },
  {
   "cell_type": "markdown",
   "metadata": {},
   "source": [
    "&nbsp;\n",
    "    \n",
    "    \n",
    "&nbsp;\n",
    "  "
   ]
  },
  {
   "cell_type": "markdown",
   "metadata": {},
   "source": [
    "**Pro-tip: If you run into some code-errors and want to try all over again, restart the kernel first before you try again by going to Kernel → Restart & Clear Output, then try again.**"
   ]
  },
  {
   "cell_type": "markdown",
   "metadata": {},
   "source": [
    "Go to [Part 3](Part3.ipynb)"
   ]
  }
 ],
 "metadata": {
  "kernelspec": {
   "display_name": "Python 3",
   "language": "python",
   "name": "python3"
  },
  "language_info": {
   "codemirror_mode": {
    "name": "ipython",
    "version": 3
   },
   "file_extension": ".py",
   "mimetype": "text/x-python",
   "name": "python",
   "nbconvert_exporter": "python",
   "pygments_lexer": "ipython3",
   "version": "3.5.0"
  },
  "widgets": {
   "state": {},
   "version": "1.1.2"
  }
 },
 "nbformat": 4,
 "nbformat_minor": 0
}
