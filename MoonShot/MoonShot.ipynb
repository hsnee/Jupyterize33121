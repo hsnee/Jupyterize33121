{
 "cells": [
  {
   "cell_type": "markdown",
   "metadata": {},
   "source": [
    "# 33-121 Physics I for Science Students\n",
    "## Moon Shot Computer Lab"
   ]
  },
  {
   "cell_type": "markdown",
   "metadata": {},
   "source": [
    "* [Parts 1 & 2](Parts12.ipynb)\n",
    "* [Part 3](Part3.ipynb)\n",
    "* [Part 4](Part4.ipynb)\n",
    "* [Part 5](Part5.ipynb)"
   ]
  },
  {
   "cell_type": "markdown",
   "metadata": {},
   "source": [
    "# Installing vpython\n",
    "\n",
    "We will use the vpython package in this computer lab.\n",
    "To install vpython, if you don't have it already, you can run the next cell, this assumes you have already installed anaconda"
   ]
  },
  {
   "cell_type": "code",
   "execution_count": null,
   "metadata": {
    "collapsed": false,
    "scrolled": false
   },
   "outputs": [],
   "source": [
    "!conda install vpython\n",
    "!conda update vpython"
   ]
  }
 ],
 "metadata": {
  "kernelspec": {
   "display_name": "Python 3",
   "language": "python",
   "name": "python3"
  },
  "language_info": {
   "codemirror_mode": {
    "name": "ipython",
    "version": 3
   },
   "file_extension": ".py",
   "mimetype": "text/x-python",
   "name": "python",
   "nbconvert_exporter": "python",
   "pygments_lexer": "ipython3",
   "version": "3.5.0"
  },
  "widgets": {
   "state": {},
   "version": "1.1.2"
  }
 },
 "nbformat": 4,
 "nbformat_minor": 0
}
