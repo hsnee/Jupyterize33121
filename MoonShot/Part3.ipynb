{
 "cells": [
  {
   "cell_type": "markdown",
   "metadata": {
    "slideshow": {
     "slide_type": "slide"
    }
   },
   "source": [
    "# Part 3: Update the mass and radius of the moon to actual values."
   ]
  },
  {
   "cell_type": "markdown",
   "metadata": {},
   "source": [
    "Import library"
   ]
  },
  {
   "cell_type": "code",
   "execution_count": 1,
   "metadata": {
    "collapsed": false,
    "slideshow": {
     "slide_type": "fragment"
    }
   },
   "outputs": [
    {
     "data": {
      "application/javascript": [
       "require.undef(\"nbextensions/jquery-ui.custom.min\");"
      ],
      "text/plain": [
       "<IPython.core.display.Javascript object>"
      ]
     },
     "metadata": {},
     "output_type": "display_data"
    },
    {
     "data": {
      "application/javascript": [
       "require.undef(\"nbextensions/glow.2.1a.min\");"
      ],
      "text/plain": [
       "<IPython.core.display.Javascript object>"
      ]
     },
     "metadata": {},
     "output_type": "display_data"
    },
    {
     "data": {
      "application/javascript": [
       "require.undef(\"nbextensions/glow.2.1b.min\");"
      ],
      "text/plain": [
       "<IPython.core.display.Javascript object>"
      ]
     },
     "metadata": {},
     "output_type": "display_data"
    },
    {
     "data": {
      "application/javascript": [
       "require.undef(\"nbextensions/glowcomm\");"
      ],
      "text/plain": [
       "<IPython.core.display.Javascript object>"
      ]
     },
     "metadata": {},
     "output_type": "display_data"
    },
    {
     "data": {
      "application/javascript": [
       "require([\"nbextensions/glowcomm\"], function(){console.log(\"glowcomm loaded\");})"
      ],
      "text/plain": [
       "<IPython.core.display.Javascript object>"
      ]
     },
     "metadata": {},
     "output_type": "display_data"
    },
    {
     "data": {
      "text/html": [
       "<div id=\"glowscript\" class=\"glowscript\"></div>"
      ],
      "text/plain": [
       "<IPython.core.display.HTML object>"
      ]
     },
     "metadata": {},
     "output_type": "display_data"
    },
    {
     "data": {
      "application/javascript": [
       "window.__context = { glowscript_container: $(\"#glowscript\").removeAttr(\"id\")}"
      ],
      "text/plain": [
       "<IPython.core.display.Javascript object>"
      ]
     },
     "metadata": {},
     "output_type": "display_data"
    }
   ],
   "source": [
    "from vpython import *"
   ]
  },
  {
   "cell_type": "markdown",
   "metadata": {},
   "source": [
    "### You will probably be using: \n",
    "*   from visual import *\n",
    "\n",
    "*   from visual.graph import *"
   ]
  },
  {
   "cell_type": "markdown",
   "metadata": {},
   "source": [
    "# Create objects for display\n",
    "\n",
    "Let's set the scene, create Earth and Moon as spheres, the ship as a cylinder and a trail that follows the ship."
   ]
  },
  {
   "cell_type": "code",
   "execution_count": 2,
   "metadata": {
    "collapsed": false,
    "slideshow": {
     "slide_type": "slide"
    }
   },
   "outputs": [],
   "source": [
    "moonlocation=vector(4.0e8,0,0)"
   ]
  },
  {
   "cell_type": "code",
   "execution_count": 3,
   "metadata": {
    "collapsed": false,
    "slideshow": {
     "slide_type": "fragment"
    }
   },
   "outputs": [],
   "source": [
    "scene=display(title=\"Voyage to the Moon\",\n",
    "              width=1200,height=800,\n",
    "              center=moonlocation/1.5)"
   ]
  },
  {
   "cell_type": "code",
   "execution_count": 4,
   "metadata": {
    "collapsed": false,
    "slideshow": {
     "slide_type": "subslide"
    }
   },
   "outputs": [],
   "source": [
    "earth = sphere(pos=vector(0,0,0), radius=6.4e6, color=color.blue)\n",
    "moon  = sphere( pos=moonlocation,radius=1.76e3, color=color.cyan)\n",
    "ship = cylinder( axis=vector(5e6,0,0), radius=2e3)\n",
    "trail = curve(color=ship.color)\n",
    "\n"
   ]
  },
  {
   "cell_type": "markdown",
   "metadata": {
    "slideshow": {
     "slide_type": "slide"
    }
   },
   "source": [
    "# Create Graphs for the energy and work display"
   ]
  },
  {
   "cell_type": "code",
   "execution_count": 5,
   "metadata": {
    "collapsed": false,
    "slideshow": {
     "slide_type": "fragment"
    }
   },
   "outputs": [],
   "source": [
    "energyplot = graph(x=0,y=200,xmin=0,xmax=1.2*moonlocation.x,\n",
    "                      ymin=-2E10,ymax=2E10,\n",
    "         #              title='Energy versus position',\n",
    "                      xtitle='Ship Position',\n",
    "                      ytitle='Energy')\n",
    "U_Graph=gcurve(color=color.blue)\n",
    "K_Graph=gcurve(color=color.green)\n",
    "W_Graph=gcurve(color=color.yellow)\n",
    "KU_Graph=gcurve(color=color.red)\n"
   ]
  },
  {
   "cell_type": "markdown",
   "metadata": {},
   "source": [
    "Before, we had $M_{Earth} = M_{Moon}$ and $R_{Earth}= R_{Moon}$. Now we're using the real values for $R_{Moon}$ and $M_{Moon}$. What would you expect to change?"
   ]
  },
  {
   "cell_type": "code",
   "execution_count": 6,
   "metadata": {
    "collapsed": false,
    "slideshow": {
     "slide_type": "fragment"
    }
   },
   "outputs": [],
   "source": [
    "G=6.67E-11\n",
    "initial_speed = 12500.  \n",
    "earth.mass = 6.0e24\n",
    "ship.mass = 173\n",
    "dt = 100\n",
    "moon.mass = 7.0e22          # Realistic Mass\n",
    "moon.radius = 1.76e6        # Realistic Radius\n",
    "ship.pos = vector(+(earth.radius+50000),0,0)\n",
    "ship.Vmomentum = vector(ship.mass*initial_speed,0,0)\n",
    "t = 0\n",
    "Work = 0.\n",
    "crash = 0"
   ]
  },
  {
   "cell_type": "code",
   "execution_count": 7,
   "metadata": {
    "collapsed": false,
    "scrolled": true,
    "slideshow": {
     "slide_type": "slide"
    }
   },
   "outputs": [
    {
     "name": "stdout",
     "output_type": "stream",
     "text": [
      "ship crashed on the moon at time  71300 seconds\n",
      "ship's initial speed  12500.0\n",
      "ship's final speed  5610.865670487356\n"
     ]
    }
   ],
   "source": [
    "while (crash==0):\n",
    "    rate(100)\n",
    "    Vr1=ship.pos-earth.pos\n",
    "    VForceEarth = -G*earth.mass*ship.mass*ship.pos/mag(ship.pos)**3 \n",
    "    Vr2=ship.pos-moon.pos\n",
    "    VForceMoon  = -G*moon.mass*ship.mass*Vr2/mag(Vr2)**3\n",
    "    ship.Vforce    = VForceEarth + VForceMoon\n",
    "    Vdelta_r = (ship.Vmomentum/ship.mass)*dt\n",
    "    ship.Vmomentum = ship.Vmomentum + ship.Vforce*dt\n",
    "    ship.pos      = ship.pos + Vdelta_r\n",
    "    UEarthShip= -G*earth.mass*ship.mass/mag(ship.pos) \n",
    "    UMoonShip = -G*moon.mass*ship.mass/mag(Vr2)\n",
    "    U=UEarthShip+UMoonShip\n",
    "    K = mag(ship.Vmomentum)**2/(2.*ship.mass)\n",
    "    Work = Work + dot(ship.Vforce,Vdelta_r)\n",
    "    U_Graph.plot(pos=(ship.pos.x,U))\n",
    "    K_Graph.plot(pos=(ship.pos.x,K))\n",
    "    KU_Graph.plot(pos=(ship.pos.x,K+U))\n",
    "    W_Graph.plot(pos=(ship.pos.x,Work))\n",
    "\n",
    "    trail.append(pos=ship.pos)\n",
    "    t=t+dt\n",
    "    if (mag(ship.pos-earth.pos) <= earth.radius ):\n",
    "        print (\"ship crashed back on the earth\")\n",
    "        crash=1\n",
    "    elif (mag(ship.pos -moon.pos )< (moon.radius+50000) ) :\n",
    "        print (\"ship crashed on the moon at time \",t, \"seconds\")\n",
    "        print (\"ship's initial speed \", initial_speed)\n",
    "        print (\"ship's final speed \", mag(ship.Vmomentum)/ship.mass)\n",
    "        crash=1"
   ]
  },
  {
   "cell_type": "markdown",
   "metadata": {},
   "source": [
    "Go to [Part4](Part4.ipynb)"
   ]
  },
  {
   "cell_type": "code",
   "execution_count": null,
   "metadata": {
    "collapsed": true
   },
   "outputs": [],
   "source": []
  }
 ],
 "metadata": {
  "kernelspec": {
   "display_name": "Python 3",
   "language": "python",
   "name": "python3"
  },
  "language_info": {
   "codemirror_mode": {
    "name": "ipython",
    "version": 3
   },
   "file_extension": ".py",
   "mimetype": "text/x-python",
   "name": "python",
   "nbconvert_exporter": "python",
   "pygments_lexer": "ipython3",
   "version": "3.5.0"
  },
  "widgets": {
   "state": {},
   "version": "1.1.2"
  }
 },
 "nbformat": 4,
 "nbformat_minor": 0
}
