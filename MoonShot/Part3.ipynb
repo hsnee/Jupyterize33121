{
 "cells": [
  {
   "cell_type": "markdown",
   "metadata": {
    "slideshow": {
     "slide_type": "slide"
    }
   },
   "source": [
    "# Part 3: Realistic moon mass and radius values"
   ]
  },
  {
   "cell_type": "markdown",
   "metadata": {},
   "source": [
    "Note: To avoid redundancy, some explanations from Parts 1 & 2 do not carry onto the following parts. If you do not understand something in the code, consult [Parts 1 & 2](Parts12.ipynb)"
   ]
  },
  {
   "cell_type": "markdown",
   "metadata": {},
   "source": [
    "Import library"
   ]
  },
  {
   "cell_type": "code",
   "execution_count": null,
   "metadata": {
    "collapsed": false,
    "slideshow": {
     "slide_type": "fragment"
    }
   },
   "outputs": [],
   "source": [
    "from vpython import vector, sphere, cylinder, curve, color, graph, gdots, gvbars, gcurve, rate, dot, canvas, mag"
   ]
  },
  {
   "cell_type": "markdown",
   "metadata": {},
   "source": [
    "# Create objects for display\n",
    "\n",
    "Let's set the scene, create Earth and Moon as spheres, the ship as a cylinder and a trail that follows the ship."
   ]
  },
  {
   "cell_type": "code",
   "execution_count": null,
   "metadata": {
    "collapsed": false,
    "slideshow": {
     "slide_type": "slide"
    }
   },
   "outputs": [],
   "source": [
    "moonlocation=vector(4.0e8,0,0)"
   ]
  },
  {
   "cell_type": "code",
   "execution_count": null,
   "metadata": {
    "collapsed": false,
    "slideshow": {
     "slide_type": "fragment"
    }
   },
   "outputs": [],
   "source": [
    "scene=canvas(title=\"Voyage to the Moon\",\n",
    "             width=1200,height=800,\n",
    "             center=moonlocation)"
   ]
  },
  {
   "cell_type": "code",
   "execution_count": null,
   "metadata": {
    "collapsed": false,
    "slideshow": {
     "slide_type": "subslide"
    }
   },
   "outputs": [],
   "source": [
    "moon  = sphere(pos=moonlocation,radius=1.76e3, color=color.cyan)\n",
    "earth = sphere(pos=vector(0,0,0), radius=6.4e6, color=color.blue)\n",
    "ship = cylinder(axis=vector(5e6,0,0), radius=2e3)\n",
    "trail = curve(color=ship.color)"
   ]
  },
  {
   "cell_type": "markdown",
   "metadata": {
    "slideshow": {
     "slide_type": "slide"
    }
   },
   "source": [
    "# Create energy and work graphs to display"
   ]
  },
  {
   "cell_type": "code",
   "execution_count": null,
   "metadata": {
    "collapsed": false,
    "slideshow": {
     "slide_type": "fragment"
    }
   },
   "outputs": [],
   "source": [
    "energyplot = graph(x=0,y=200,xmin=0,xmax=0.98*moonlocation.x,\n",
    "                      ymin=-2E10,ymax=2E10,\n",
    "                      xtitle='Ship Position',\n",
    "                      ytitle='Energy')\n",
    "U_Graph=gcurve(color=color.blue)\n",
    "K_Graph=gcurve(color=color.green)\n",
    "W_Graph=gdots(color=color.black, size=0.1)\n",
    "KU_Graph=gvbars(color=color.red)"
   ]
  },
  {
   "cell_type": "markdown",
   "metadata": {},
   "source": [
    "Before, we had $M_{Earth} = M_{Moon}$ and $R_{Earth}= R_{Moon}$. Now we're using the real values for $R_{Moon}$ and $M_{Moon}$. Look them up (wikipedia is a helpful resource 😁), and **insert them into the following block**.\n",
    "What would you expect to change?"
   ]
  },
  {
   "cell_type": "code",
   "execution_count": null,
   "metadata": {
    "collapsed": false,
    "slideshow": {
     "slide_type": "fragment"
    }
   },
   "outputs": [],
   "source": [
    "G=6.67E-11\n",
    "initial_speed = 12500.  \n",
    "earth.mass = 6.0e24\n",
    "ship.mass = 173\n",
    "dt = 100\n",
    "moon.mass = 7.0e22          # in kg\n",
    "moon.radius = 1.76e6        # in metres\n",
    "ship.pos = vector(+(earth.radius+50000),0,0)\n",
    "ship.Vmomentum = vector(ship.mass*initial_speed,0,0)\n",
    "t = 0\n",
    "Work = 0.\n",
    "crash = 0\n",
    "scene.autoscale=0"
   ]
  },
  {
   "cell_type": "markdown",
   "metadata": {},
   "source": [
    "Run the main plot again."
   ]
  },
  {
   "cell_type": "code",
   "execution_count": null,
   "metadata": {
    "collapsed": false,
    "scrolled": false,
    "slideshow": {
     "slide_type": "slide"
    }
   },
   "outputs": [],
   "source": [
    "while (crash==0):\n",
    "    rate(100)\n",
    "    Vr1=ship.pos-earth.pos\n",
    "    VForceEarth = -G*earth.mass*ship.mass*ship.pos/mag(ship.pos)**3 \n",
    "    Vr2=ship.pos-moon.pos\n",
    "    VForceMoon  = -G*moon.mass*ship.mass*Vr2/mag(Vr2)**3\n",
    "    ship.Vforce    = VForceEarth + VForceMoon\n",
    "    Vdelta_r = (ship.Vmomentum/ship.mass)*dt\n",
    "    ship.Vmomentum = ship.Vmomentum + ship.Vforce*dt\n",
    "    ship.pos      = ship.pos + Vdelta_r\n",
    "    UEarthShip= -G*earth.mass*ship.mass/mag(ship.pos) \n",
    "    UMoonShip = -G*moon.mass*ship.mass/mag(Vr2)\n",
    "    U=UEarthShip+UMoonShip\n",
    "    K = mag(ship.Vmomentum)**2/(2.*ship.mass)\n",
    "    Work = Work + dot(ship.Vforce,Vdelta_r)\n",
    "    U_Graph.plot(pos=(ship.pos.x,U))\n",
    "    K_Graph.plot(pos=(ship.pos.x,K))\n",
    "    KU_Graph.plot(pos=(ship.pos.x,K+U))\n",
    "    W_Graph.plot(pos=(ship.pos.x,Work))\n",
    "\n",
    "    trail.append(pos=ship.pos)\n",
    "    t=t+dt\n",
    "    if (mag(ship.pos-earth.pos) <= earth.radius ):\n",
    "        print (\"ship crashed back on the earth\")\n",
    "        crash=1\n",
    "    elif (mag(ship.pos -moon.pos )< (moon.radius+50000) ) :\n",
    "        print (\"ship crashed on the moon at time \",t, \"seconds\")\n",
    "        print (\"ship's initial speed \", initial_speed)\n",
    "        print (\"ship's final speed \", mag(ship.Vmomentum)/ship.mass)\n",
    "        crash=1"
   ]
  },
  {
   "cell_type": "markdown",
   "metadata": {},
   "source": [
    "* Either print out or sketch the energy graph below:"
   ]
  },
  {
   "cell_type": "markdown",
   "metadata": {},
   "source": [
    "* By the end of the voyage, how much work was done on the ship by the Earth and the Moon? Calculate this by hand and compare it to the value from the graph.\n",
    "\n",
    "\n",
    "&nbsp;\n",
    "    \n",
    "    \n",
    "&nbsp;\n",
    "  \n",
    "  \n",
    "&nbsp;\n",
    "    \n",
    "    \n",
    "&nbsp;\n",
    "  \n",
    "  \n",
    "&nbsp;\n",
    "    \n",
    "    \n",
    "&nbsp;\n",
    "  \n",
    "* Explain why the shape of the blue curve is now asymmetric. Which potential energy term dominates in which region?\n",
    "\n",
    "&nbsp;\n",
    "    \n",
    "    \n",
    "&nbsp;\n",
    "  \n",
    "* *Considering that work is the dot product of force and displacement*, explain why the shape of the black curve is now asymmetric.\n",
    "\n",
    "&nbsp;\n",
    "    \n",
    "    \n",
    "&nbsp;\n",
    "  \n",
    "* The red shaded curve doesn’t appear to have changed much. Did the magnitude of the red curve increase or decrease? \n",
    "\n",
    "&nbsp;\n",
    "    \n",
    "    \n",
    "&nbsp;\n",
    "* If the potential energy between the Earth and the Moon was included, would the change in the red curve be bigger or smaller? i.e. would a $U_{E-M}$ term increase or decrease? \n",
    "\n",
    "\n",
    "&nbsp;\n",
    "    \n",
    "    \n",
    "&nbsp;\n",
    "\n",
    "* There is a certain critical initial velocity which predicts whether the object will fall back to earth or not. Start from an energy perspective, thinking about which energy has to dominate for the object to fall back or escape the Earth's field, and calculate this velocity. \n",
    "\n",
    "&nbsp;\n",
    "    \n",
    "    \n",
    "&nbsp;\n",
    "\n",
    "&nbsp;\n",
    "    \n",
    "    \n",
    "&nbsp;\n",
    "\n",
    "&nbsp;\n",
    "    \n",
    "    \n",
    "&nbsp;\n",
    "\n",
    "&nbsp;\n",
    "    \n",
    "    \n",
    "* How does this change if the mass of the rocket doubled? \n",
    "&nbsp;\n",
    "    \n",
    "    \n",
    "&nbsp;\n",
    "\n",
    "&nbsp;\n",
    "    \n",
    "*Notes: In this equation, atmospheric friction is not taken into account. A rocket moving out of a gravitational well does not actually need to attain escape velocity to escape, but could achieve the same result at any speed with a suitable mode of propulsion and sufficient propellant to provide the accelerating force on the object to escape. Escape velocity is only required to send a ballistic object on a trajectory that will allow the object to escape the gravity well of the mass M.*"
   ]
  },
  {
   "cell_type": "markdown",
   "metadata": {},
   "source": [
    "**Pro-tip: If you wanna view several energy graphs in-line, you can re-initialise the graphs, and then make changes to and run the subsequent cells. This will display a new energy graph below the original one. You can use this to make as many graphs as you want.**"
   ]
  },
  {
   "cell_type": "markdown",
   "metadata": {},
   "source": [
    "Go to [Part 4](Part4.ipynb)"
   ]
  }
 ],
 "metadata": {
  "kernelspec": {
   "display_name": "Python 3",
   "language": "python",
   "name": "python3"
  },
  "language_info": {
   "codemirror_mode": {
    "name": "ipython",
    "version": 3
   },
   "file_extension": ".py",
   "mimetype": "text/x-python",
   "name": "python",
   "nbconvert_exporter": "python",
   "pygments_lexer": "ipython3",
   "version": "3.5.0"
  },
  "widgets": {
   "state": {},
   "version": "1.1.2"
  }
 },
 "nbformat": 4,
 "nbformat_minor": 0
}
