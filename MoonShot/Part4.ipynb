{
 "cells": [
  {
   "cell_type": "markdown",
   "metadata": {
    "slideshow": {
     "slide_type": "slide"
    }
   },
   "source": [
    "# Part 4: Reducing the initial speed"
   ]
  },
  {
   "cell_type": "markdown",
   "metadata": {},
   "source": [
    "Import library"
   ]
  },
  {
   "cell_type": "code",
   "execution_count": null,
   "metadata": {
    "collapsed": false,
    "slideshow": {
     "slide_type": "fragment"
    }
   },
   "outputs": [],
   "source": [
    "from vpython import vector, sphere, cylinder, curve, color, graph, gdots, gvbars, gcurve, rate, dot, canvas, mag"
   ]
  },
  {
   "cell_type": "markdown",
   "metadata": {},
   "source": [
    "# Create objects for display\n",
    "\n",
    "Let's set the scene, create Earth and Moon as spheres, the ship as a cylinder and a trail that follows the ship."
   ]
  },
  {
   "cell_type": "code",
   "execution_count": null,
   "metadata": {
    "collapsed": false,
    "slideshow": {
     "slide_type": "slide"
    }
   },
   "outputs": [],
   "source": [
    "moonlocation=vector(4.0e8,0,0)"
   ]
  },
  {
   "cell_type": "code",
   "execution_count": null,
   "metadata": {
    "collapsed": false,
    "slideshow": {
     "slide_type": "fragment"
    }
   },
   "outputs": [],
   "source": [
    "scene=canvas(title=\"Voyage to the Moon\",\n",
    "              width=800,height=600,\n",
    "              center=moonlocation/1.8)"
   ]
  },
  {
   "cell_type": "code",
   "execution_count": null,
   "metadata": {
    "collapsed": false,
    "slideshow": {
     "slide_type": "subslide"
    }
   },
   "outputs": [],
   "source": [
    "earth = sphere(pos=vector(0,0,0), radius=6.4e6, color=color.blue)\n",
    "moon  = sphere( pos=moonlocation,radius=1.76e3, color=color.cyan)\n",
    "ship = cylinder( axis=vector(5e6,0,0), radius=2e6)\n",
    "trail = curve(color=ship.color)"
   ]
  },
  {
   "cell_type": "markdown",
   "metadata": {
    "slideshow": {
     "slide_type": "slide"
    }
   },
   "source": [
    "# Create Graphs for the energy and work display"
   ]
  },
  {
   "cell_type": "code",
   "execution_count": null,
   "metadata": {
    "collapsed": false,
    "slideshow": {
     "slide_type": "fragment"
    }
   },
   "outputs": [],
   "source": [
    "energyplot = graph(x=0,y=200,xmin=0,xmax=moonlocation.x,\n",
    "                      ymin=-2E10,ymax=2E10,\n",
    "                      xtitle='Ship Position',\n",
    "                      ytitle='Energy')\n",
    "U_Graph=gcurve(color=color.blue)\n",
    "K_Graph=gcurve(color=color.green)\n",
    "W_Graph=gdots(color=color.black, size=0.1)\n",
    "KU_Graph=gvbars(color=color.red)"
   ]
  },
  {
   "cell_type": "markdown",
   "metadata": {
    "collapsed": true
   },
   "source": [
    "Let's change the speed of the ship to 10700. What do you expect to eventually happen? Feel free to try changing this to different speeds to see what happens."
   ]
  },
  {
   "cell_type": "code",
   "execution_count": null,
   "metadata": {
    "collapsed": true
   },
   "outputs": [],
   "source": [
    "G=6.67E-11\n",
    "initial_speed = 10700. # Reduce initial speed\n",
    "earth.mass = 6.0e24\n",
    "ship.mass = 173\n",
    "dt = 100\n",
    "moon.mass = 7.0e22\n",
    "moon.radius = 1.76e6\n",
    "ship.pos = vector(+(earth.radius+50000),0,0)\n",
    "ship.Vmomentum = vector(ship.mass*initial_speed,0,0)\n",
    "t = 0\n",
    "Work = 0.\n",
    "crash = 0\n",
    "scene.autoscale=0"
   ]
  },
  {
   "cell_type": "markdown",
   "metadata": {},
   "source": [
    "Run the main loop and scroll up to see what happens."
   ]
  },
  {
   "cell_type": "code",
   "execution_count": null,
   "metadata": {
    "collapsed": false
   },
   "outputs": [],
   "source": [
    "while (crash==0):\n",
    "    rate(100)\n",
    "    Vr1=ship.pos-earth.pos\n",
    "    VForceEarth = -G*earth.mass*ship.mass*ship.pos/mag(ship.pos)**3 \n",
    "    Vr2=ship.pos-moon.pos\n",
    "    VForceMoon  = -G*moon.mass*ship.mass*Vr2/mag(Vr2)**3\n",
    "    ship.Vforce    = VForceEarth + VForceMoon\n",
    "    Vdelta_r = (ship.Vmomentum/ship.mass)*dt\n",
    "    ship.Vmomentum = ship.Vmomentum + ship.Vforce*dt\n",
    "    ship.pos      = ship.pos + Vdelta_r\n",
    "    UEarthShip= -G*earth.mass*ship.mass/mag(ship.pos) \n",
    "    UMoonShip = -G*moon.mass*ship.mass/mag(Vr2)\n",
    "    U=UEarthShip+UMoonShip\n",
    "    K = mag(ship.Vmomentum)**2/(2.*ship.mass)\n",
    "    Work = Work + dot(ship.Vforce,Vdelta_r)\n",
    "    U_Graph.plot(pos=(ship.pos.x,U))\n",
    "    K_Graph.plot(pos=(ship.pos.x,K))\n",
    "    KU_Graph.plot(pos=(ship.pos.x,K+U))\n",
    "    W_Graph.plot(pos=(ship.pos.x,Work))\n",
    "\n",
    "    trail.append(pos=ship.pos)\n",
    "    t=t+dt\n",
    "    if (mag(ship.pos-earth.pos) <= earth.radius ):\n",
    "        print (\"ship crashed back on the earth\")\n",
    "        crash=1\n",
    "    elif (mag(ship.pos -moon.pos )< (moon.radius+50000) ) :\n",
    "        print (\"ship crashed on the moon at time \",t, \"seconds\")\n",
    "        print (\"ship's initial speed \", initial_speed)\n",
    "        print (\"ship's final speed \", mag(ship.Vmomentum)/ship.mass)\n",
    "        crash=1"
   ]
  },
  {
   "cell_type": "markdown",
   "metadata": {},
   "source": [
    "* Print out the energy plot or sketch it below\n",
    "![Empty energy plot](12plot.jpg)\n",
    "\n",
    "\n",
    "* What happens to the kinetic energy curve as the initial speed of the ship is decreased? At what point does the ship stop moving toward the Moon and start falling back to Earth?\n",
    "    \n",
    "&nbsp;\n",
    "\n",
    "&nbsp;\n",
    "    \n",
    "    \n",
    "&nbsp;\n",
    "\n",
    "&nbsp;\n",
    "    \n",
    "* At what point is all of the energy in the Earth-Moon-ship system in the form of potential energy? (Do not quote an actual value, since this would be different for different initial velocities $-$ it's okay to just describe this qualitively). What feature on the red and blue graphs corresponds to this?\n",
    "    \n",
    "&nbsp;\n",
    "\n",
    "&nbsp;\n",
    "    \n",
    "    \n",
    "&nbsp;\n",
    "\n",
    "    \n",
    "\n",
    "* There is a certain critical initial velocity which predicts whether the object will fall back to earth or not. Start from an energy perspective, thinking about which energy has to dominate for the object to fall back or escape the Earth's field, and thinking about *initial conditions only*, calculate this velocity. \n",
    "\n",
    "    \n",
    "    \n",
    "&nbsp;\n",
    "\n",
    "&nbsp;\n",
    "    \n",
    "    \n",
    "&nbsp;\n",
    "\n",
    "&nbsp;\n",
    "    \n",
    "    \n",
    "&nbsp;\n",
    "\n",
    "&nbsp;\n",
    "    \n",
    "    \n",
    "* How does this change if the mass of the rocket doubled? \n",
    "&nbsp;\n",
    "    \n",
    "    \n",
    "&nbsp;\n",
    "\n",
    "&nbsp;\n",
    "    \n",
    "*Notes: In this equation, atmospheric friction is not taken into account. A rocket moving out of a gravitational well does not actually need to attain escape velocity to escape, but could achieve the same result at any speed with a suitable mode of propulsion and sufficient propellant to provide the accelerating force on the object to escape. Escape velocity is only required to send a ballistic object on a trajectory that will allow the object to escape the gravity well of the mass M.*"
   ]
  },
  {
   "cell_type": "markdown",
   "metadata": {
    "collapsed": true
   },
   "source": [
    "Go to [Part 5](Part5.ipynb)"
   ]
  }
 ],
 "metadata": {
  "kernelspec": {
   "display_name": "Python 3",
   "language": "python",
   "name": "python3"
  },
  "language_info": {
   "codemirror_mode": {
    "name": "ipython",
    "version": 3
   },
   "file_extension": ".py",
   "mimetype": "text/x-python",
   "name": "python",
   "nbconvert_exporter": "python",
   "pygments_lexer": "ipython3",
   "version": "3.5.0"
  },
  "widgets": {
   "state": {},
   "version": "1.1.2"
  }
 },
 "nbformat": 4,
 "nbformat_minor": 0
}
