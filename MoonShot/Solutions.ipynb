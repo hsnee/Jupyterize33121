{
 "cells": [
  {
   "cell_type": "markdown",
   "metadata": {},
   "source": [
    "**Parts 1 & 2**\n",
    "\n",
    "* Useful to use loop to continuously update position, momentum, etc.\n",
    "* $K_{ship}, U_{E-S}, U_{M-S} - $ scalar , $F_{grav,Earth}, F_{grav,Moon} -$ vectors\n",
    "*    * Green: Kinetic energy of the ship\n",
    "     * Blue: Potential energy, not including the potential energy between the Earth and the Moon \n",
    "     * Red: Sum of Green + Blue\n",
    "     * Black: The net work done on the ship by the Earth and the Moon\n",
    " \n",
    "* K decreases because of accelerating Earth gravitational field then increases due to that of the moon. U decreases in absolute value becoming less negative, due to distance increasing, then increases again as it approaches the moon, where $U_{moon-ship}$ dominates. Work is done against Earth's gravity field, increases in value but negatively. Then increases again back to zero near the moon, as work is being done along the Moon's gravity field. \n",
    "* $\\Delta E = 0$ and $U_{initial} = U_{final}$ since both masses are the same ⇒ $K_{initial} = K_{final}$ ⇒ $v_{initial} = v_{final}$ \n",
    "\n",
    "**Part 3**\n",
    "\n",
    "* Can take only Earth into account or either, to find $W=\\vec{F_g} \\times \\Delta \\vec{r} = -10^{10} Joules $. Consistent with what the graph shows.\n",
    "* The potential energy curve is no longer symmetric because the masses of the Earth and the Moon are different. Near the Earth, the Earth’s potential energy term dominates and near the Moon the Moon’s potential energy term dominates.\n",
    "* The forces acting on the ship are no longer symmetric because the masses are different so the work curve won’t be symmetric anymore.\n",
    "* The magnitude decreased slightly. There would have been a greater shift if the Earth-Moon term was included.\n",
    "\n",
    "**Part 4**\n",
    "\n",
    "* The kinetic energy curve shifts downward. When the kinetic energy of the ship gets to zero, the ship stops moving toward the Moon.\n",
    "* Same point. When the blue and the red curve intersect all of the system’s energy is in the form of potential energy and the ship stops moving toward the Moon.\n",
    "* Starting from $K_{initial} = U_{initial} $ ⇒ $v = \\sqrt{2GM/r}$.\n",
    "* Does not depend on mass of the ship."
   ]
  }
 ],
 "metadata": {
  "kernelspec": {
   "display_name": "Python 3",
   "language": "python",
   "name": "python3"
  },
  "language_info": {
   "codemirror_mode": {
    "name": "ipython",
    "version": 3
   },
   "file_extension": ".py",
   "mimetype": "text/x-python",
   "name": "python",
   "nbconvert_exporter": "python",
   "pygments_lexer": "ipython3",
   "version": "3.5.0"
  },
  "widgets": {
   "state": {},
   "version": "1.1.2"
  }
 },
 "nbformat": 4,
 "nbformat_minor": 0
}
