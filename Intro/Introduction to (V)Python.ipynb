{
 "cells": [
  {
   "cell_type": "markdown",
   "metadata": {},
   "source": [
    "Name: $\\;\\;\\;\\;\\;\\;\\;\\;\\;\\;\\;\\;\\;\\;\\;\\;\\;\\;\\;\\;\\;\\;\\;\\;\\;\\;\\;\\;$ Partners: $\\;\\;\\;\\;\\;\\;\\;\\;\\;\\;\\;\\;\\;\\;\\;\\;\\;\\;\\;\\;\\;\\;\\;\\;\\;\\;\\;\\;\\;\\;\\;\\;\\;\\;\\;\\;$ Section: $\\;\\;\\;\\;\\;\\;\\;\\;\\;\\;\\;$ Instructor: $\\;\\;\\;\\;\\;\\;\\;\\;\\;\\;\\;\\;\\;\\;\\;\\;\\;\\;\\;\\;\\;$"
   ]
  },
  {
   "cell_type": "markdown",
   "metadata": {},
   "source": [
    "This is the first of a series of computer labs that were designed to accompany the lecture material. Today will just be an introduction $-$ there will be nothing to turn in, only an in-class exercise. \n",
    "\n",
    "After these labs, you will not be expected to learn how to program $-$ but rather to learn mainly:\n",
    "* When to use coding in physics and simulations.\n",
    "* How to interpret physical meanings from computational results.\n",
    "* Being comfortable and being able to edit code.\n",
    "\n",
    "Today, we're gonna make ourselves familiar with some aspects of programming:\n",
    "\n",
    "**$1.$ Rate of change:**\n",
    "\n",
    "Imagine that right now it's $80$ degrees outside and someone tells you that the temperature is decreasing at a rate of 2 degrees/hour. What will the temperature be in half an hour? Well, the final temperature will be the initial temperature plus the change in temperature. So that is $80$ degrees $+$ ($-2$ degrees$/$hour) $\\times$ ($1/2$ hour) $=$ $80$ degrees $- 1$ degree = $79$ degrees. We needed a negative sign because the temperature is decreasing. In general:\n",
    "Final $=$ Initial $+$ Rate $\\times$ Change in Time\n",
    "\n",
    "This formula gives an exact result of the rate is constant. However, we know that temperature isn't always decreasing at a rate of $2$ degrees$/$hour. Clearly the temperature increases during some parts of the day! In this case we must be careful to only use this formula when our change in time that is small enough that our rate during this time is approximately constant. Thus, this formula gives a good approximation when our change in time is small (even if the rate isn't constant).\n",
    "\n",
    "Rates of change show up all over the place in physics. For example, velocity is the rate of  change of position, and acceleration is the rate of change of velocity. As long as the change in time is small: $x_f$ = $x_i + v \\times dt$; $v_f = v_i + a \\times dt$\n",
    "\n",
    "But say you want to know the final position of an object a long time later, say 3 hours later. What would you do? Well, you could break the 3 hours into small pieces of time like 1 second and then do many calculations, updating the position and velocity each time. Since 3 hours has 10,800 seconds you would need to do 10,800 calculations. Ouch. You could use a larger time interval, maybe 100 seconds, but then your accuracy may decrease and 108 calculations is still a lot. Luckily, computers are very good at doing many (boring) calculations quickly so they are ideal for this job.\n",
    "\n",
    "Some advantages of a computational approach:\n",
    "\n",
    "* Many calculations quickly\n",
    "* Can easily modify code and re-run for a similar new problem\n",
    "* Can find approximate solutions to problems that can't be solved by hand\n",
    "\n",
    "One thing that you must remember is that the program will do whatever you tell it to do even if it gives you a result that is completely wrong! For example, if you make a program where the Earth orbits the Sun but make the time step between updates too large then Earth might crash into the Sun or fly off into outer space. Often there is a tradeoff between speed and accuracy, and you should always be mindful of the limitations of your program.\n",
    "In the rest of this lab you will create a program that uses the concept of rate of change to make a ball bounce.\n",
    "\n",
    "**$2.$ First program**\n",
    "\n",
    "We are using an interactive interface, called [Jupyter Notebook](http://jupyter.org)\n",
    "Often in Python, we have to run a complete program, but in this interactive shell, we can run it cell-by-cell. To do this, press on the cell below and press shift + enter."
   ]
  },
  {
   "cell_type": "code",
   "execution_count": null,
   "metadata": {
    "collapsed": false
   },
   "outputs": [],
   "source": [
    "print (\"Hello World! This is our first program!\")"
   ]
  },
  {
   "cell_type": "markdown",
   "metadata": {},
   "source": [
    "That's it! The program ran by calling a function called *print* from Python, and the output is shown directly underneath. Python does not have a lot of standard functions, but it has a huge community, in which people usually collaborate and write packages of functions, which we can import to use, you'll see this in the next example.\n",
    "\n",
    "You can always ask Jupyter about a function by running:"
   ]
  },
  {
   "cell_type": "code",
   "execution_count": null,
   "metadata": {
    "collapsed": true
   },
   "outputs": [],
   "source": [
    "print?"
   ]
  },
  {
   "cell_type": "markdown",
   "metadata": {},
   "source": [
    "or even:"
   ]
  },
  {
   "cell_type": "code",
   "execution_count": null,
   "metadata": {
    "collapsed": true
   },
   "outputs": [],
   "source": [
    "print??"
   ]
  },
  {
   "cell_type": "markdown",
   "metadata": {},
   "source": [
    "which may give you even more information $-$ depending on the function. Online resources such as [StackOverflow](www.stackoverflow.com) can also be very helpful $–$ and all code you will come across will usually have online documentation."
   ]
  },
  {
   "cell_type": "markdown",
   "metadata": {},
   "source": [
    "**$3.$ Variables and Comments**"
   ]
  },
  {
   "cell_type": "code",
   "execution_count": null,
   "metadata": {
    "collapsed": false,
    "scrolled": false
   },
   "outputs": [],
   "source": [
    "from vpython import sphere, vector, color, box, canvas # this line imports the functions named sphere, vector, color, box and canvas from the VPython package.\n",
    "scene = canvas() # this line creates a scene to display the object we're gonna create later by calling the function 'canvas'\n",
    "ball = sphere(pos=vector(0,50,0), radius=5, color=color.cyan) # creates a ball by calling the 'sphere' with certain parameters.\n",
    "ground = box(pos=vector(0,0,0), size=vector(70,1,50), color=color.green) # simulates a ground by calling a very thin 'box' function.\n",
    "print (\"ground's position is \",int(ground.pos.x),'i +', int(ground.pos.y),'j +',int(ground.pos.z),'k')\n",
    "print (\"ball's height is\", ball.pos.y)"
   ]
  },
  {
   "cell_type": "markdown",
   "metadata": {},
   "source": [
    "You may have noticed in the print function (and anywhere else) when we use something in quotes (a string), Python reads exactly what we wrote, whereas when we type something without quotes, it reads the value of that variable.\n",
    "\n",
    "**Comments**: Python ignores anything after a '#' sign. This is usually used to add comments to the code to make it easier to understand, without affecting the program $–$ but too many comments may make the code look cluttered. \n",
    "\n",
    "**Variables**: Variables are names that we give to objects or numbers so that we can easily refer to them later. A variable (always left hand side) is assigned to a value by the equals sign. In your program, ball and ground are variable names.\n",
    "\n",
    "You don't have to assign an object a name, but you must if you want to refer to it later or change its attributes. If you wanted to change the position and radius of ball later in the program you could run the following cell:"
   ]
  },
  {
   "cell_type": "code",
   "execution_count": null,
   "metadata": {
    "collapsed": false
   },
   "outputs": [],
   "source": [
    "ball.pos = vector(1,2,3)\n",
    "ball.radius = 4"
   ]
  },
  {
   "cell_type": "markdown",
   "metadata": {},
   "source": [
    "Now scroll up to see how that changed your plot!\n",
    "\n",
    "Checkpoint 1: At this point have a TA check your program. Explain to the TA why the code gives you the visual and text output that it does.\n",
    "TA check:$___________$\n",
    "\n",
    "**$4.$ Loops**\n",
    "Now lets try to make the ball move. To do this we will need to update the ball's position many times so we can see movement. This calls for a loop! Loops are commands that tell your computer to repeat a segment of code as long as a certain condition is satisfied. First let's go to our initial setup:"
   ]
  },
  {
   "cell_type": "code",
   "execution_count": null,
   "metadata": {
    "collapsed": false
   },
   "outputs": [],
   "source": [
    "ball.pos=vector(0,50,0)\n",
    "ball.radius=5"
   ]
  },
  {
   "cell_type": "markdown",
   "metadata": {},
   "source": [
    "Let's now add some initial values:"
   ]
  },
  {
   "cell_type": "code",
   "execution_count": null,
   "metadata": {
    "collapsed": true
   },
   "outputs": [],
   "source": [
    "ball.velocity = vector(0,-10,0) # initial ball velocity\n",
    "t=0 \n",
    "dt = 0.01 # time step"
   ]
  },
  {
   "cell_type": "markdown",
   "metadata": {},
   "source": [
    "And finally, let's start calculating the new positions and updating them every $dt = 0.01s$ for $30s$"
   ]
  },
  {
   "cell_type": "code",
   "execution_count": null,
   "metadata": {
    "collapsed": false
   },
   "outputs": [],
   "source": [
    "from vpython import rate\n",
    "import time\n",
    "time.sleep(5) # this will force the program to sleep for 5 seconds before running the loop, giving you enough time to scroll up to see everything that happens :)\n",
    "while(t<30):\n",
    "    rate(350) # maximum frequency at which loop is executed  \n",
    "    ball.pos = ball.pos + ball.velocity * dt \n",
    "    t = t + dt "
   ]
  },
  {
   "cell_type": "markdown",
   "metadata": {},
   "source": [
    "This loop will recalculate the position of the ball every $dt$ for $t=30s$. Notice the code that is inside the loop must always be indented (4-spaces). If you work in a Jupyter notebook, it will indent it automatically. The time is also being updated If the time was not updated, then the program never knows when we get to $t=30s$ and the loop would be executed forever... Beware of writing loops that go on forever! :) \n",
    "\n",
    "Find the line that updates the position and compare it with the formula in Part 1 of this tutorial. What do you expect your program will do when you run it?\n",
    "Run your program. Does it do what you expected? Why does it go through the ground? (we'll answer this in part 6). Try adding a line to the loop so it prints out the ball's position each time and run your program again.\n",
    "\n",
    "Checkpoint 2: At this point have a TA check your program. Explain to the TA why the code gives you the visual and text output that it does.\n",
    "TA check:$___________$\n",
    "\n",
    "**$5.$ Adding acceleration**\n",
    "Now we have the ball moving, but our program is missing gravity and our ball goes straight through the ground!\n",
    "\n",
    "We know from Newton's laws that if we don't have gravity (and no other forces, as in the case here), then there would be no acceleration, and the ball would go on forever at the same velocity. Let's add gravity. So far we have only updated the ball's position leaving its velocity constant. To incorporate acceleration due to gravity all we need to do is add a line that will update the ball's velocity. Remember that acceleration is the rate of change of velocity. To do this, run the next cell, which includes the magnitude of gravity, the acceleration vector, and let's re-initialize time and position."
   ]
  },
  {
   "cell_type": "code",
   "execution_count": null,
   "metadata": {
    "collapsed": true
   },
   "outputs": [],
   "source": [
    "g = 9.8\n",
    "a = vector(0,-g,0)\n",
    "t=0\n",
    "ball.pos=vector(0,50,0)"
   ]
  },
  {
   "cell_type": "markdown",
   "metadata": {},
   "source": [
    "and now let's run the loop, updating the velocity as well as position and time. "
   ]
  },
  {
   "cell_type": "code",
   "execution_count": null,
   "metadata": {
    "collapsed": false
   },
   "outputs": [],
   "source": [
    "time.sleep(5)\n",
    "while(t<30):\n",
    "    rate(250) \n",
    "    ball.pos = ball.pos + ball.velocity * dt\n",
    "    ball.velocity = ball.velocity + a * dt\n",
    "    t = t + dt"
   ]
  },
  {
   "cell_type": "markdown",
   "metadata": {},
   "source": [
    "and scroll up to see what happens to the simulation.\n",
    "\n",
    "Find the line that updates the velocity and compare it to the formula in Part 1 of this lab. Does it do what you expected? We'll deal with the ball going straight through the ground in the next section. Can you make the ball’s acceleration be to the right rather than downward (just for fun :))\n",
    "\n",
    "**$6.$ Conditional statements**\n",
    "\n",
    "Now let's make the ball bounce. We only want the ball to bounce if it hits the ground. This calls for a conditional statement! A conditional statement is a command that tells the computer to only do a segment of code if a certain condition is satisfied. \n",
    "Take a look at the if-statement that we added to the loop and run it. you can increase the time if you want the simulation to run for longer. "
   ]
  },
  {
   "cell_type": "code",
   "execution_count": null,
   "metadata": {
    "collapsed": false
   },
   "outputs": [],
   "source": [
    "t=0 # re-initialize time\n",
    "ball.pos=vector(0,50,0) # re-initialize potision\n",
    "time.sleep(5)\n",
    "while t < 30:\n",
    "    rate(55) \n",
    "    ball.pos = ball.pos + ball.velocity*dt  \n",
    "    ball.velocity = ball.velocity + a*dt \n",
    "    t=t+dt \n",
    "    if ball.pos.y < 0:\n",
    "        ball.velocity.y = -ball.velocity.y   "
   ]
  },
  {
   "cell_type": "markdown",
   "metadata": {},
   "source": [
    "If the ball's y position goes below zero we know the ball has hit the floor. We have decided to model the bounce by changing the direction of the ball's velocity in the y direction. \n",
    "\n",
    "Checkpoint 3: At this point have a TA check your program. Explain to the TA why the code gives you the visual and text output that it does.\n",
    "TA check:$___________$\n",
    "\n",
    "**$7.$ Optional Challenges**\n",
    "* Change dt to 0.5 and the rate to 40 (so it's easier to see the animation) and re-run the program. What do you see in the animation that is unphysical? What went wrong?\n",
    "* Play with the ball’s initial velocity. What happens if the ball starts out going upward? To the right or left?\n",
    "* Try modifying your code to make the ball have an inelastic collision with the floor. This means that the ball won't bounce back up with 100% of its impact velocity.\n",
    "* Try making the color of the ball or the ground change each time the ball bounces. Some possible colors are red, green, blue, yellow, magenta, cyan, black, and white.\n",
    "* Try adding left and right “walls” that the ball can bounce off of.\n",
    "* Try giving the ball a weird acceleration that depends on time or on the ball’s height off the ground."
   ]
  },
  {
   "cell_type": "markdown",
   "metadata": {},
   "source": [
    "**Installation Instructions**\n",
    "\n",
    "This section will provide instruction to install all the software that you need if you would like to use your computer for future labs, or for fun.\n",
    "\n",
    "The easiest and most recommended way to install python is by installing the (**Python 3.5** version of) Anaconda distribution by following the link: https://www.continuum.io/downloads\n",
    "There is a graphical installer and it's available on any OS.\n",
    "\n",
    "After installation, \n",
    "\n",
    "* on a **Mac or Linux system**, go to Applications → Utilitie → Terminal.\n",
    "Go to the directory in which you have downloaded the labs by typing\n",
    "\n",
    "    cd directory\n",
    "\n",
    "replacing directory with your directory's path, you can even just write cd followed by a space, and then copy the folder that you downloaded the labs into, into the terminal window, then press enter.\n",
    "Then run\n",
    "\n",
    "    jupyter notebook\n",
    "\n",
    "Jupyter will then open in your browser. Then simply choose the notebook you would like to use.\n",
    "\n",
    "* On a **Any system**, open Anaconda-Navigator which anaconda installs. Then press Launch on the Jupyter Notebook app. This will launch Jupyter in your browser, but in the root directoy, so you might have to browse a little to get to where you downloaded the lab.\n",
    "\n",
    "**After you've done that** run the following cell before anything else (you only have to do this once, not for every lab). This will install the VPython and time package."
   ]
  },
  {
   "cell_type": "code",
   "execution_count": null,
   "metadata": {
    "collapsed": false
   },
   "outputs": [],
   "source": [
    "!conda install -y vpython time "
   ]
  },
  {
   "cell_type": "markdown",
   "metadata": {},
   "source": [
    "and that's it! :) "
   ]
  }
 ],
 "metadata": {
  "kernelspec": {
   "display_name": "Python 3",
   "language": "python",
   "name": "python3"
  },
  "language_info": {
   "codemirror_mode": {
    "name": "ipython",
    "version": 3
   },
   "file_extension": ".py",
   "mimetype": "text/x-python",
   "name": "python",
   "nbconvert_exporter": "python",
   "pygments_lexer": "ipython3",
   "version": "3.5.0"
  },
  "widgets": {
   "state": {},
   "version": "1.1.2"
  }
 },
 "nbformat": 4,
 "nbformat_minor": 0
}
