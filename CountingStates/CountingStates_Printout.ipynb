{
 "cells": [
  {
   "cell_type": "markdown",
   "metadata": {},
   "source": [
    "# Counting States"
   ]
  },
  {
   "cell_type": "markdown",
   "metadata": {},
   "source": [
    "Name:    $\\;\\;\\;\\;\\;\\;\\;\\;\\;\\;\\;\\;\\;\\;\\;\\;\\;\\;\\;\\;\\;\\;\\;\\;\\;\\;\\;\\;\\;\\;\\;\\;\\;\\;\\;\\;$     Instructor:     $\\;\\;\\;\\;\\;\\;\\;\\;\\;\\;\\;\\;\\;\\;\\;\\;\\;\\;\\;\\;\\;\\;\\;\\;\\;\\;\\;\\;\\;\\;\\;$             Section:   $\\;\\;\\;\\;\\;\\;\\;\\;\\;\\;\\;$      Date:          "
   ]
  },
  {
   "cell_type": "markdown",
   "metadata": {},
   "source": [
    "First let's make's make sure that all the libraries that we will be using are installed, you can do this by running the following cell:"
   ]
  },
  {
   "cell_type": "code",
   "execution_count": null,
   "metadata": {
    "collapsed": true
   },
   "outputs": [],
   "source": [
    "!conda install numpy, scipy, seaborn, matplotlib"
   ]
  },
  {
   "cell_type": "markdown",
   "metadata": {},
   "source": [
    "**Part 1:** Today we are going to learn about the statistical properties of physical systems, and how that affects the energy distribution in them and the probability of macrostates. We will model a system of 2 blocks, in the Block 1, there are 2 atoms, and in Block 2, there is 1 atom. We can model atoms as 3 oscillators (1 oscillator per dimension). \n",
    "\n",
    "If we add one quantum of energy, it can go into either blocks, with probability 2/3 of going into block 1, and 1/3 going into block 2. Why? What happens if we add 4 quanta? \n",
    "\n",
    "Fill in the table below with the 5 different ways of arranging the 4 quanta into the blocks. In lectures, we learned that the number of microstates (i.e. number of ways to arrange) $q_i$ quanta into $N_i$ oscillators can be calculated using the formula:\n",
    "\n",
    "$\\Omega_i = \\frac{(q_i+N_i-1)\\,!}{q_i\\,! \\,(N_i-1)\\,!}$"
   ]
  },
  {
   "cell_type": "markdown",
   "metadata": {},
   "source": [
    "##### Table goes here"
   ]
  },
  {
   "cell_type": "markdown",
   "metadata": {},
   "source": [
    "Now we're gonna try to recreate the above table using Python, and see if we got everything correctly."
   ]
  },
  {
   "cell_type": "markdown",
   "metadata": {},
   "source": [
    "Import some libraries: numpy and scipy are the essential numerical and scientific computing libraries in Python. Seaborn and Matplotlib are plotting libraries."
   ]
  },
  {
   "cell_type": "code",
   "execution_count": 1,
   "metadata": {
    "collapsed": false
   },
   "outputs": [],
   "source": [
    "import numpy as np\n",
    "from scipy.special import factorial\n",
    "import seaborn as sns\n",
    "import matplotlib.pyplot as plt\n",
    "%matplotlib inline"
   ]
  },
  {
   "cell_type": "markdown",
   "metadata": {},
   "source": [
    "Let's first define a function that we can use later, which takes the total number of quanta of energy, q, and a number, N, as arguments and returns the number of ways q can be distributed among N oscillator states, using the formula for $\\Omega$ above."
   ]
  },
  {
   "cell_type": "code",
   "execution_count": 2,
   "metadata": {
    "collapsed": true,
    "slideshow": {
     "slide_type": "slide"
    }
   },
   "outputs": [],
   "source": [
    "def Omega_fun(q,N):\n",
    "    Omega = np.zeros(len(q))\n",
    "    Omega = factorial(q+N-1)/(factorial(q)*factorial(N-1))\n",
    "    return Omega"
   ]
  },
  {
   "cell_type": "markdown",
   "metadata": {
    "slideshow": {
     "slide_type": "slide"
    }
   },
   "source": [
    "Define number of oscillators in each block and  number of energy quanta"
   ]
  },
  {
   "cell_type": "code",
   "execution_count": 3,
   "metadata": {
    "collapsed": false,
    "slideshow": {
     "slide_type": "slide"
    }
   },
   "outputs": [],
   "source": [
    "N1=6\n",
    "N2=3\n",
    "qTotal=4\n",
    "q1=np.linspace(0,qTotal,qTotal+1)\n",
    "q2=np.zeros(len(q1))\n",
    "q2 = qTotal - q1"
   ]
  },
  {
   "cell_type": "markdown",
   "metadata": {},
   "source": [
    "Use the function above to calculate $\\Omega_1$, $\\Omega_2$ and $\\Omega_{total}$"
   ]
  },
  {
   "cell_type": "code",
   "execution_count": 4,
   "metadata": {
    "collapsed": true
   },
   "outputs": [],
   "source": [
    "Omega1=Omega_fun(q1,N1)\n",
    "Omega2=Omega_fun(q2,N2)\n",
    "OmegaTotal=Omega1*Omega2"
   ]
  },
  {
   "cell_type": "markdown",
   "metadata": {},
   "source": [
    "Plot $\\Omega_1$, $\\Omega_2$ and $\\Omega_{total}$ as **funtions of $\\mathbf{q_1}$ **"
   ]
  },
  {
   "cell_type": "code",
   "execution_count": 5,
   "metadata": {
    "collapsed": false,
    "scrolled": false
   },
   "outputs": [
    {
     "name": "stdout",
     "output_type": "stream",
     "text": [
      "SUMMARY\n",
      "N1 =   , N2 =  \n",
      "Total number of energy quanta: \n",
      "Total Number of States:\n"
     ]
    },
    {
     "data": {
      "image/png": "[encoded data removed]",
      "text/plain": [
       "<matplotlib.figure.Figure at 0x109712cf8>"
      ]
     },
     "metadata": {},
     "output_type": "display_data"
    }
   ],
   "source": [
    "sns.set_style(\"darkgrid\")\n",
    "plt.plot(q1, Omega1, sns.xkcd_rgb[\"pale red\"],   lw=2,label=r'$\\Omega_1$')\n",
    "plt.plot(q1, Omega2, sns.xkcd_rgb[\"denim blue\"], lw=2,label=r'$\\Omega_2$')\n",
    "plt.plot(q1, OmegaTotal, sns.xkcd_rgb[\"muted green\"], lw=2,label=r'$\\Omega_{total}$')\n",
    "plt.xlabel(r'$q_1$')\n",
    "plt.ylabel(r'$\\Omega$')\n",
    "plt.legend(loc=\"upper left\")\n",
    "plt.title(r'$\\Omega_1$, $\\Omega_2$, and $\\Omega_{total}$ as functions of $q_1$')\n",
    "\n",
    "print ('SUMMARY')\n",
    "print ('N1 = %d , N2 = %d' %(N1,N2))\n",
    "print ('Total number of energy quanta ',qTotal)\n",
    "print ('Total Number of States :',np.sum(OmegaTotal))\n",
    "# for i in range(len(q1)):                                  # uncomment to display all values\n",
    "#    print (q1[i],q2[i],Omega1[i],Omega2[i],OmegaTotal[i]) # uncomment to display all values"
   ]
  },
  {
   "cell_type": "markdown",
   "metadata": {},
   "source": [
    "Suppose every quantum of energy represents $0.2 eV$ of energy:"
   ]
  },
  {
   "cell_type": "markdown",
   "metadata": {},
   "source": [
    "a. What is the total amount of energy in the system?"
   ]
  },
  {
   "cell_type": "markdown",
   "metadata": {},
   "source": [
    "$\\;$"
   ]
  },
  {
   "cell_type": "markdown",
   "metadata": {},
   "source": [
    "b. If we pull the two blocks apart, what is the most probable amount of energy in $eV$ in each of the two blocks?"
   ]
  },
  {
   "cell_type": "markdown",
   "metadata": {},
   "source": [
    "$\\;$"
   ]
  },
  {
   "cell_type": "markdown",
   "metadata": {},
   "source": [
    "c. What is the probability that the 1-atom block (block 2) is in its ground state? (This means we find the system with zero quanta in its ground state.)"
   ]
  },
  {
   "cell_type": "markdown",
   "metadata": {},
   "source": [
    "$\\;$"
   ]
  },
  {
   "cell_type": "markdown",
   "metadata": {},
   "source": [
    "**Part 2:** Now let's increase the number of oscillators and quanta to $N_1=20, N_2 = 30$ and $q_{total}=100$, and recalculate $\\Omega$'s, and plot everything again."
   ]
  },
  {
   "cell_type": "code",
   "execution_count": 6,
   "metadata": {
    "collapsed": false,
    "slideshow": {
     "slide_type": "slide"
    }
   },
   "outputs": [],
   "source": [
    "N1=\n",
    "N2=\n",
    "qTotal=\n",
    "q1=np.linspace(0,qTotal,qTotal+1)\n",
    "q2=np.zeros(len(q1))\n",
    "q2 = qTotal - q1"
   ]
  },
  {
   "cell_type": "code",
   "execution_count": 7,
   "metadata": {
    "collapsed": true
   },
   "outputs": [],
   "source": [
    "Omega1=Omega_fun(q1,N1)\n",
    "Omega2=Omega_fun(q2,N2)\n",
    "OmegaTotal=Omega1*Omega2"
   ]
  },
  {
   "cell_type": "code",
   "execution_count": 8,
   "metadata": {
    "collapsed": false,
    "scrolled": false
   },
   "outputs": [
    {
     "name": "stdout",
     "output_type": "stream",
     "text": [
      "SUMMARY\n",
      "N1 =   , N2 = \n",
      "Total number of energy quanta: \n",
      "Total Number of States:\n"
     ]
    },
    {
     "data": {
      "image/png": "[encoded data removed]",
      "text/plain": [
       "<matplotlib.figure.Figure at 0x109c1c240>"
      ]
     },
     "metadata": {},
     "output_type": "display_data"
    }
   ],
   "source": [
    "sns.set_style(\"darkgrid\")\n",
    "plt.plot(q1, Omega1, sns.xkcd_rgb[\"pale red\"],   lw=2,label=r'$\\Omega_1$')\n",
    "plt.plot(q1, Omega2, sns.xkcd_rgb[\"denim blue\"], lw=2,label=r'$\\Omega_2$')\n",
    "plt.plot(q1, OmegaTotal, sns.xkcd_rgb[\"muted green\"], lw=2,label=r'$\\Omega_{total}$')\n",
    "plt.xlabel(r'$q_1$')\n",
    "plt.ylabel(r'$\\Omega$')\n",
    "plt.legend(loc=\"upper left\")\n",
    "plt.title(r'$\\Omega_1$, $\\Omega_2$, and $\\Omega_{total}$ as functions of $q_1$')\n",
    "\n",
    "print ('SUMMARY')\n",
    "print ('N1 = %d , N2 = %d' %(N1,N2))\n",
    "print ('Total number of energy quanta ',qTotal)\n",
    "print ('Total Number of States :',np.sum(OmegaTotal))\n",
    "# for i in range(len(q1)):                                  # uncomment to display all values\n",
    "#    print (q1[i],q2[i],Omega1[i],Omega2[i],OmegaTotal[i]) # uncomment to display all values"
   ]
  },
  {
   "cell_type": "markdown",
   "metadata": {},
   "source": [
    "You will notice that it is now very hard to see the blue and red curves $-$ the reason for that is because the green curve's peak is several orders of magnitude higher than that of either the blue or the red. It becomes harder and harder to see them when we increase the number of $\\Omega$ (by increasing $N$ and $q$). To see the red and blue curves, try commenting out the line that plots the green curve and run the above cell again. Is the trend from the red and blue curves consistent with what you expect from your table?"
   ]
  },
  {
   "cell_type": "markdown",
   "metadata": {},
   "source": [
    "   a. What is the most likely amount of quanta, and corresponding amount of energy, for each of block 1 and block 2? Remember that $\\Omega$ above is plotted as a function of $q_1$ or equivalently, a function of decreasing $q_2$ from $100$ to $0$."
   ]
  },
  {
   "cell_type": "markdown",
   "metadata": {},
   "source": [
    "$\\;$"
   ]
  },
  {
   "cell_type": "markdown",
   "metadata": {},
   "source": [
    "b. What is the probability of this particular state? (Hint: you can uncomment the last line in the cell above to print exact values)"
   ]
  },
  {
   "cell_type": "markdown",
   "metadata": {},
   "source": [
    "$\\;$"
   ]
  },
  {
   "cell_type": "markdown",
   "metadata": {},
   "source": [
    "c. If we are able to make 10 observations per second, how long do we have to observe to detect this maximum probability state? (Hint: If the probability was 1, then we need 1 observation to detect this state, and thus would have to wait 0.1s, if the probability was 0.1, we would need on average 10 observations to detect such a state, and thus would have to observe for 1s...)"
   ]
  },
  {
   "cell_type": "markdown",
   "metadata": {},
   "source": [
    "$\\;$"
   ]
  },
  {
   "cell_type": "markdown",
   "metadata": {},
   "source": [
    "**Part 3:** Let's try changing q and N one last time into $N_1=70, N_2=30$ and $q_{total}=100$ and recalculate and plot:"
   ]
  },
  {
   "cell_type": "code",
   "execution_count": 9,
   "metadata": {
    "collapsed": false,
    "slideshow": {
     "slide_type": "slide"
    }
   },
   "outputs": [],
   "source": [
    "N1=\n",
    "N2=\n",
    "qTotal=\n",
    "q1=np.linspace(0,qTotal,qTotal+1)\n",
    "q2=np.zeros(len(q1))\n",
    "q2 = qTotal - q1"
   ]
  },
  {
   "cell_type": "code",
   "execution_count": 10,
   "metadata": {
    "collapsed": true
   },
   "outputs": [],
   "source": [
    "Omega1=Omega_fun(q1,N1)\n",
    "Omega2=Omega_fun(q2,N2)\n",
    "OmegaTotal=Omega1*Omega2"
   ]
  },
  {
   "cell_type": "code",
   "execution_count": 11,
   "metadata": {
    "collapsed": false,
    "scrolled": false
   },
   "outputs": [
    {
     "name": "stdout",
     "output_type": "stream",
     "text": [
      "SUMMARY\n",
      "N1 =   , N2 = \n",
      "Total number of energy quanta: \n",
      "Total Number of States:\n"
     ]
    },
    {
     "data": {
      "image/png": "[encoded data removed]",
      "text/plain": [
       "<matplotlib.figure.Figure at 0x109cbb7b8>"
      ]
     },
     "metadata": {},
     "output_type": "display_data"
    }
   ],
   "source": [
    "sns.set_style(\"darkgrid\") # this line just adds some prettiness :-) \n",
    "plt.plot(q1, Omega1, sns.xkcd_rgb[\"pale red\"],   lw=2,label=r'$\\Omega_1$')\n",
    "plt.plot(q1, Omega2, sns.xkcd_rgb[\"denim blue\"], lw=2,label=r'$\\Omega_2$')\n",
    "plt.plot(q1, OmegaTotal, sns.xkcd_rgb[\"muted green\"], lw=2,label=r'$\\Omega_{total}$')\n",
    "plt.xlabel(r'$q_1$')\n",
    "plt.ylabel(r'$\\Omega$')\n",
    "plt.legend(loc=\"upper left\")\n",
    "plt.title(r'$\\Omega_1$, $\\Omega_2$, and $\\Omega_{total}$ as functions of $q_1$')\n",
    "\n",
    "print ('SUMMARY')\n",
    "print ('N1 = %d , N2 = %d' %(N1,N2))\n",
    "print ('Total number of energy quanta ',qTotal)\n",
    "print ('Total Number of States :',np.sum(OmegaTotal))\n",
    "# for i in range(len(q1)):                                 # uncomment to display all values\n",
    "#    print (q1[i],q2[i],Omega1[i],Omega2[i],OmegaTotal[i]) # uncomment to display all values"
   ]
  },
  {
   "cell_type": "markdown",
   "metadata": {},
   "source": [
    "a. The two changes that we made are: doubling the number of oscillators, and redistributing them in a different proportion. What are the effects of those two changes that you can see from the plots? How can you interpret them physically? "
   ]
  },
  {
   "cell_type": "markdown",
   "metadata": {},
   "source": [
    "**Solution** \n",
    "1. Doubling the number of oscillators made the curve narrower $-$ physical interpretation: we are more certain about the highest probability state in part 3 than in part 2, i.e. approaching the classical limit. \n",
    "2. Putting more oscillators in the first box shifter the peak to the right $-$ physical interpretation: higher probability of having more quanta of energy in the first box than in the second."
   ]
  },
  {
   "cell_type": "markdown",
   "metadata": {},
   "source": [
    "b. Calculate the probability of the maximum state for the configuration in **Part 2** to occur in this new configuration."
   ]
  },
  {
   "cell_type": "markdown",
   "metadata": {},
   "source": [
    "$\\;$"
   ]
  },
  {
   "cell_type": "markdown",
   "metadata": {},
   "source": [
    "c. If we are able to make 10 observations per second, how long do we have to observe to detect this maximum probability state?"
   ]
  },
  {
   "cell_type": "markdown",
   "metadata": {},
   "source": [
    "$\\;$"
   ]
  },
  {
   "cell_type": "markdown",
   "metadata": {},
   "source": [
    "d. What would happen if we $10^{23}$ oscillators (Hint #1: In our classical world, we usually have numbers closer to $10^{23}$ than to a hundred. Think about what this classical limit would imply on the probability distribution. Hint #2: Do not try inputting $10^{23}$ oscillators in the code above $-$ this would result in Python returning **infinite** (also known in programming as \"nan\" which stands for \"not a number\" values for the number of microstate)"
   ]
  },
  {
   "cell_type": "markdown",
   "metadata": {},
   "source": [
    "$\\;$"
   ]
  },
  {
   "cell_type": "markdown",
   "metadata": {
    "collapsed": true
   },
   "source": [
    "<HTML>\n",
    "\n",
    "Written by <a href=\"http://www.husni.space\">Husni Almoubayyed</a> based on [] for CMU's 33-121 F16-F17 classes.\n",
    "</HTML>"
   ]
  }
 ],
 "metadata": {
  "kernelspec": {
   "display_name": "Python 3",
   "language": "python",
   "name": "python3"
  },
  "language_info": {
   "codemirror_mode": {
    "name": "ipython",
    "version": 3
   },
   "file_extension": ".py",
   "mimetype": "text/x-python",
   "name": "python",
   "nbconvert_exporter": "python",
   "pygments_lexer": "ipython3",
   "version": "3.5.0"
  },
  "widgets": {
   "state": {},
   "version": "1.1.2"
  }
 },
 "nbformat": 4,
 "nbformat_minor": 0
}
