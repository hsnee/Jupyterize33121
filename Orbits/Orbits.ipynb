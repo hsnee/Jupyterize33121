{
 "cells": [
  {
   "cell_type": "code",
   "execution_count": 1,
   "metadata": {
    "collapsed": false
   },
   "outputs": [
    {
     "data": {
      "application/javascript": [
       "require.undef(\"nbextensions/vpython_libraries/jquery-ui.custom.min\");"
      ],
      "text/plain": [
       "<IPython.core.display.Javascript object>"
      ]
     },
     "metadata": {},
     "output_type": "display_data"
    },
    {
     "data": {
      "application/javascript": [
       "require.undef(\"nbextensions/vpython_libraries/glow.2.1.min\");"
      ],
      "text/plain": [
       "<IPython.core.display.Javascript object>"
      ]
     },
     "metadata": {},
     "output_type": "display_data"
    },
    {
     "data": {
      "application/javascript": [
       "require.undef(\"nbextensions/vpython_libraries/glowcomm\");"
      ],
      "text/plain": [
       "<IPython.core.display.Javascript object>"
      ]
     },
     "metadata": {},
     "output_type": "display_data"
    },
    {
     "data": {
      "application/javascript": [
       "require([\"nbextensions/vpython_libraries/jquery-ui.custom.min\"], function(){console.log(\"JQUERY LOADED\");})"
      ],
      "text/plain": [
       "<IPython.core.display.Javascript object>"
      ]
     },
     "metadata": {},
     "output_type": "display_data"
    },
    {
     "data": {
      "application/javascript": [
       "require([\"nbextensions/vpython_libraries/glow.2.1.min\"], function(){console.log(\"GLOW LOADED\");})"
      ],
      "text/plain": [
       "<IPython.core.display.Javascript object>"
      ]
     },
     "metadata": {},
     "output_type": "display_data"
    },
    {
     "data": {
      "application/javascript": [
       "require([\"nbextensions/vpython_libraries/glowcomm\"], function(){console.log(\"GLOWCOMM LOADED\");})"
      ],
      "text/plain": [
       "<IPython.core.display.Javascript object>"
      ]
     },
     "metadata": {},
     "output_type": "display_data"
    },
    {
     "data": {
      "text/html": [
       "<div id=\"glowscript\" class=\"glowscript\"></div>"
      ],
      "text/plain": [
       "<IPython.core.display.HTML object>"
      ]
     },
     "metadata": {},
     "output_type": "display_data"
    },
    {
     "data": {
      "application/javascript": [
       "window.__context = { glowscript_container: $(\"#glowscript\").removeAttr(\"id\")}"
      ],
      "text/plain": [
       "<IPython.core.display.Javascript object>"
      ]
     },
     "metadata": {},
     "output_type": "display_data"
    }
   ],
   "source": [
    "from vpython import  scene, sphere, color, curve, arrow, mag, vector, rate,canvas, norm, mag2"
   ]
  },
  {
   "cell_type": "code",
   "execution_count": 1,
   "metadata": {
    "collapsed": false,
    "scrolled": true
   },
   "outputs": [
    {
     "data": {
      "application/javascript": [
       "require.undef(\"nbextensions/vpython_libraries/jquery-ui.custom.min\");"
      ],
      "text/plain": [
       "<IPython.core.display.Javascript object>"
      ]
     },
     "metadata": {},
     "output_type": "display_data"
    },
    {
     "data": {
      "application/javascript": [
       "require.undef(\"nbextensions/vpython_libraries/glow.2.1.min\");"
      ],
      "text/plain": [
       "<IPython.core.display.Javascript object>"
      ]
     },
     "metadata": {},
     "output_type": "display_data"
    },
    {
     "data": {
      "application/javascript": [
       "require.undef(\"nbextensions/vpython_libraries/glowcomm\");"
      ],
      "text/plain": [
       "<IPython.core.display.Javascript object>"
      ]
     },
     "metadata": {},
     "output_type": "display_data"
    },
    {
     "data": {
      "application/javascript": [
       "require([\"nbextensions/vpython_libraries/jquery-ui.custom.min\"], function(){console.log(\"JQUERY LOADED\");})"
      ],
      "text/plain": [
       "<IPython.core.display.Javascript object>"
      ]
     },
     "metadata": {},
     "output_type": "display_data"
    },
    {
     "data": {
      "application/javascript": [
       "require([\"nbextensions/vpython_libraries/glow.2.1.min\"], function(){console.log(\"GLOW LOADED\");})"
      ],
      "text/plain": [
       "<IPython.core.display.Javascript object>"
      ]
     },
     "metadata": {},
     "output_type": "display_data"
    },
    {
     "data": {
      "application/javascript": [
       "require([\"nbextensions/vpython_libraries/glowcomm\"], function(){console.log(\"GLOWCOMM LOADED\");})"
      ],
      "text/plain": [
       "<IPython.core.display.Javascript object>"
      ]
     },
     "metadata": {},
     "output_type": "display_data"
    },
    {
     "data": {
      "text/html": [
       "<div id=\"glowscript\" class=\"glowscript\"></div>"
      ],
      "text/plain": [
       "<IPython.core.display.HTML object>"
      ]
     },
     "metadata": {},
     "output_type": "display_data"
    },
    {
     "data": {
      "application/javascript": [
       "window.__context = { glowscript_container: $(\"#glowscript\").removeAttr(\"id\")}"
      ],
      "text/plain": [
       "<IPython.core.display.Javascript object>"
      ]
     },
     "metadata": {},
     "output_type": "display_data"
    },
    {
     "name": "stdout",
     "output_type": "stream",
     "text": [
      "976001280978.712\n",
      "975743870532.297\n",
      "975485052635.3654\n",
      "975224826540.9622\n",
      "974963191497.4688\n",
      "974700146748.59\n",
      "974435691533.3418\n",
      "974169825086.0385\n",
      "973902546636.2794\n",
      "973633855408.9366\n",
      "973363750624.1412\n",
      "973092231497.2706\n",
      "972819297238.9352\n",
      "972544947054.9646\n",
      "972269180146.3949\n",
      "971991995709.4543\n",
      "971713392935.5503\n",
      "971433371011.2551\n",
      "971151929118.2925\n",
      "970869066433.5232\n",
      "970584782128.9313\n",
      "970299075371.6099\n",
      "970011945323.7468\n",
      "969723391142.6102\n",
      "969433411980.5342\n",
      "969142006984.904\n",
      "968849175298.1417\n",
      "968554916057.6908\n",
      "968259228396.0017\n",
      "967962111440.5167\n",
      "967663564313.6549\n",
      "967363586132.7966\n",
      "967062176010.2683\n",
      "966759333053.327\n",
      "966455056364.1448\n",
      "966149345039.793\n",
      "965842198172.2264\n",
      "965533614848.2676\n",
      "965223594149.5905\n",
      "964912135152.7045\n",
      "964599236928.938\n",
      "964284898544.4222\n",
      "963969119060.0746\n",
      "963651897531.5819\n",
      "963333233009.3842\n",
      "963013124538.6571\n",
      "962691571159.2954\n",
      "962368571905.8958\n",
      "962044125807.7394\n",
      "961718231888.7748\n",
      "961390889167.6003\n",
      "961062096657.4465\n",
      "960731853366.1584\n",
      "815223542425.9585\n",
      "814443147987.3601\n",
      "813660733400.47\n",
      "812876294778.2787\n",
      "812089828212.4485\n",
      "811301329773.1625\n",
      "810510795508.9724\n",
      "809718221446.6451\n",
      "808923603591.0073\n",
      "808126937924.7888\n",
      "807328220408.4645\n",
      "806527446980.0946\n",
      "805724613555.1635\n",
      "804919716026.4164\n",
      "804112750263.6957\n",
      "803303712113.7742\n",
      "802492597400.1875\n",
      "801679401923.0651\n",
      "800864121458.9587\n",
      "800046751760.6703\n",
      "799227288557.0765\n",
      "798405727552.9537\n",
      "797582064428.7992\n",
      "796756294840.6517\n",
      "795928414419.91\n",
      "795098418773.1493\n",
      "794266303481.936\n",
      "793432064102.641\n",
      "792595696166.2502\n",
      "791757195178.1742\n",
      "790916556618.0547\n",
      "790073775939.5703\n",
      "789228848570.2396\n",
      "788381769911.2223\n",
      "787532535337.118\n",
      "786681140195.7642\n",
      "785827579808.03\n",
      "784971849467.6104\n",
      "784113944440.8157\n",
      "783253859966.361\n",
      "782391591255.1519\n",
      "781527133490.0691\n",
      "780660481825.75\n",
      "779791631388.3682\n",
      "778920577275.4108\n",
      "778047314555.4534\n",
      "777171838267.9327\n",
      "776294143422.9164\n",
      "775414225000.8708\n",
      "774532077952.4265\n",
      "773647697198.1403\n",
      "772761077628.256\n",
      "771872214102.4619\n",
      "770981101449.6455\n",
      "770087734467.6461\n",
      "769192107923.0044\n",
      "768294216550.7092\n",
      "767394055053.9423\n",
      "766491618103.8188\n",
      "765586900339.1271\n",
      "764679896366.0632\n",
      "763770600757.965\n",
      "762859008055.0408\n",
      "761945112764.0973\n",
      "761028909358.2632\n",
      "760110392276.7098\n",
      "759189555924.3691\n",
      "758266394671.6482\n",
      "757340902854.1409\n",
      "756413074772.3357\n",
      "755482904691.321\n",
      "754550386840.4868\n",
      "753615515413.2224\n",
      "752678284566.6118\n",
      "751738688421.1248\n",
      "750796721060.3048\n",
      "749852376530.4535\n",
      "748905648840.3113\n",
      "747956531960.7343\n",
      "747005019824.3679\n",
      "690787567354.8627\n",
      "689690886007.2736\n",
      "688591387601.4531\n",
      "687489063134.0245\n",
      "686383903535.0708\n",
      "685275899667.4451\n",
      "684165042326.071\n",
      "683051322237.2344\n",
      "681934730057.8636\n",
      "680815256374.8018\n",
      "679692891704.0674\n",
      "678567626490.1053\n",
      "677439451105.0275\n",
      "676308355847.842\n",
      "675174330943.6729\n",
      "674037366542.9667\n",
      "672897452720.6903\n",
      "671754579475.5155\n",
      "670608736728.9924\n",
      "669459914324.7114\n",
      "668308102027.4528\n",
      "667153289522.3237\n",
      "665995466413.8839\n",
      "664834622225.2571\n",
      "663670746397.2305\n",
      "662503828287.341\n",
      "661333857168.9476\n",
      "660160822230.2909\n",
      "658984712573.5375\n",
      "657805517213.8116\n",
      "656623225078.2114\n",
      "655437825004.8108\n",
      "654249305741.6462\n",
      "653057655945.689\n",
      "651862864181.8005\n",
      "650664918921.6735\n",
      "649463808542.7557\n",
      "648259521327.1583\n",
      "647052045460.5466\n",
      "645841369031.0145\n",
      "644627480027.941\n",
      "643410366340.8296\n",
      "642190015758.1292\n",
      "640966415966.0367\n",
      "639739554547.2816\n",
      "638509418979.8903\n",
      "637275996635.9315\n",
      "636039274780.2424\n",
      "634799240569.1337\n",
      "633555881049.0742\n",
      "632309183155.3552\n",
      "631059133710.732\n",
      "629805719424.0449\n",
      "628548926888.8169\n",
      "627288742581.8295\n",
      "626025152861.6743\n",
      "624758143967.2821\n",
      "623487702016.4268\n",
      "622213813004.2047\n",
      "620936462801.4897\n",
      "619655637153.3619\n",
      "618371321677.5098\n",
      "617083501862.6062\n",
      "615792163066.6576\n",
      "614497290515.3237\n",
      "613198869300.2106\n",
      "611896884377.1332\n",
      "610591320564.3494\n",
      "609282162540.7627\n",
      "607969394844.0951\n",
      "606653001869.0275\n",
      "605332967865.3079\n",
      "604009276935.8273\n",
      "602681913034.6613\n",
      "601350859965.0774\n",
      "600016101377.5074\n",
      "598677620767.4835\n",
      "597335401473.538\n",
      "595989426675.0652\n",
      "594639679390.1455\n",
      "593286142473.3293\n",
      "591928798613.382\n",
      "590567630330.9868\n",
      "589202619976.4067\n",
      "587833749727.103\n",
      "586461001585.31\n",
      "585084357375.5652\n",
      "583703798742.193\n",
      "582319307146.7426\n",
      "580930863865.3765\n",
      "579538449986.211\n",
      "578142046406.6063\n",
      "576741633830.4043\n",
      "575337192765.1145\n",
      "573928703519.0464\n",
      "572516146198.3854\n",
      "571099500704.2136\n",
      "569678746729.4719\n",
      "568253863755.8633\n",
      "566824831050.6951\n",
      "565391627663.6593\n",
      "563954232423.5496\n",
      "562512623934.9124\n",
      "561066780574.6315\n",
      "559616680488.4446\n",
      "558162301587.3887\n",
      "556703621544.1746\n",
      "555240617789.4867\n",
      "553773267508.2084\n",
      "552301547635.5684\n",
      "550825434853.2087\n",
      "549344905585.1714\n",
      "547859935993.7999\n",
      "546370501975.5569\n",
      "544876579156.7521\n",
      "543378142889.1812\n",
      "541875168245.67163\n",
      "540367630015.5327\n",
      "538855502699.909\n",
      "537338760507.03284\n",
      "535817377347.3742\n",
      "534291326828.6847\n",
      "532760582250.93304\n",
      "531225116601.1294\n",
      "529684902548.03455\n",
      "528139912436.7517\n",
      "526590118283.1976\n",
      "525035491768.44867\n",
      "523476004232.9602\n",
      "521911626670.6535\n",
      "520342329722.8683\n",
      "518768083672.17633\n",
      "517188858436.05194\n",
      "515604623560.3958\n",
      "514015348212.9075\n",
      "512421001176.3024\n",
      "510821550841.36896\n",
      "509216965199.8603\n",
      "507607211837.2173\n",
      "505992257925.1162\n",
      "504372070213.8369\n",
      "502746615024.4456\n",
      "501115858240.78687\n",
      "499479765301.27905\n",
      "497838301190.50726\n",
      "496191430430.60736\n",
      "494539117072.43475\n",
      "492881324686.5114\n",
      "491218016353.74384\n",
      "489549154655.9053\n",
      "487874701665.8743\n",
      "486194618937.6223\n",
      "484508867495.94165\n",
      "482817407825.90643\n",
      "481120199862.05695\n",
      "479417202977.29895\n",
      "477708375971.5085\n",
      "475993677059.8324\n",
      "474273063860.6746\n",
      "472546493383.3575\n",
      "470813922015.4475\n",
      "469075305509.7341\n",
      "467330598970.84924\n",
      "465579756841.5163\n",
      "463822732888.41473\n",
      "462059480187.64746\n",
      "460289951109.79755\n",
      "458514097304.5588\n",
      "456731869684.926\n",
      "454943218410.92926\n",
      "453148092872.8948\n",
      "451346441674.2167\n",
      "449538212613.6211\n",
      "447723352666.90405\n",
      "445901807968.12396\n",
      "444073523790.22833\n",
      "442238444525.0936\n",
      "440396513662.9562\n",
      "438547673771.211\n",
      "436691866472.5544\n",
      "434829032422.4451\n",
      "432959111285.8579\n",
      "431082041713.30115\n",
      "429197761316.07043\n",
      "427306206640.70746\n",
      "425407313142.63226\n",
      "423501015158.9161\n",
      "421587245880.15967\n",
      "419665937321.44055\n",
      "417737020292.2908\n",
      "415800424365.6655\n",
      "413856077845.8596\n",
      "411903907735.32794\n",
      "409943839700.3634\n",
      "407975798035.58307\n",
      "405999705627.17145\n",
      "404015483914.82654\n",
      "402023052852.35156\n",
      "400022330866.833\n",
      "398013234816.3412\n",
      "395995679946.08734\n",
      "393969579842.9669\n",
      "391934846388.41516\n",
      "389891389709.497\n",
      "387839118128.14935\n",
      "385777938108.4883\n",
      "383707754202.0897\n",
      "381628468991.14667\n",
      "379539983029.40015\n",
      "377442194780.73553\n",
      "375335000555.32916\n",
      "373218294443.22394\n",
      "371091968245.2045\n",
      "368955911400.8361\n",
      "366810010913.5209\n",
      "364654151272.4193\n",
      "362488214371.0722\n",
      "360312079422.5498\n",
      "358125622870.94415\n",
      "355928718299.0072\n",
      "353721236331.7267\n",
      "351503044535.6162\n",
      "349274007313.4828\n",
      "347033985794.4186\n",
      "344782837718.74634\n",
      "342520417317.63074\n",
      "340246575187.0463\n",
      "337961158155.77325\n",
      "335664009147.06726\n",
      "333354967033.62604\n",
      "331033866485.44696\n",
      "328700537810.14154\n",
      "326354806785.2397\n",
      "323996494481.98315\n",
      "321625417080.06854\n",
      "319241385672.7601\n",
      "316844206061.7473\n",
      "314433678541.07416\n",
      "312009597669.41205\n",
      "309571752029.8928\n",
      "307119923976.65186\n",
      "304653889367.1635\n",
      "302173417279.37366\n",
      "299678269712.55066\n",
      "297168201270.6834\n",
      "294642958827.1541\n",
      "292102281169.3015\n",
      "289545898621.366\n",
      "286973532644.1737\n",
      "284384895409.7632\n",
      "281779689348.9941\n",
      "279157606669.98944\n",
      "276518328845.0593\n",
      "273861526063.5222\n",
      "271186856647.5874\n",
      "268493966428.175\n",
      "265782488077.23123\n",
      "263052040392.74063\n",
      "260302227532.23453\n",
      "257532638190.14514\n",
      "254742844713.84677\n",
      "251932402152.6521\n",
      "249100847233.38382\n",
      "246247697255.40656\n",
      "243372448897.16998\n",
      "240474576925.3635\n",
      "237553532796.6988\n",
      "234608743141.09637\n",
      "231639608113.62952\n",
      "228645499600.94385\n",
      "225625759265.98523\n",
      "222579696412.68826\n",
      "219506585649.74966\n",
      "216405664329.67023\n",
      "213276129735.81714\n",
      "210117135986.24133\n",
      "206927790618.2639\n",
      "203707150812.27945\n",
      "200454219206.6369\n",
      "197167939247.62714\n",
      "193847190009.2653\n",
      "190490780406.35434\n",
      "187097442710.83212\n",
      "183665825265.0847\n",
      "180194484266.06268\n",
      "176681874469.76865\n",
      "173126338635.83655\n",
      "169526095494.99847\n",
      "165879225976.25116\n",
      "162183657372.88782\n",
      "158437145053.76352\n",
      "154637251233.52084\n",
      "150781320196.6319\n",
      "146866449216.23306\n",
      "142889454207.6289\n",
      "138846828890.83667\n",
      "134734695882.11401\n",
      "130548747655.59395\n",
      "126284174660.83055\n",
      "121935576972.37979\n",
      "117496854565.02797\n",
      "112961069468.99762\n",
      "108320270371.43759\n",
      "103565266218.78304\n",
      "98685329245.10484\n",
      "93667798235.51718\n",
      "88497537288.15982\n",
      "83156179327.7922\n",
      "77621038336.61194\n",
      "71863491651.14244\n",
      "65846474357.82186\n",
      "59520399238.23088\n",
      "52816079178.459785\n",
      "45631392873.66082\n",
      "37803163900.07746\n",
      "29037268211.31327\n",
      "18682118621.31093\n"
     ]
    }
   ],
   "source": [
    "import time\n",
    "from vpython import  scene, sphere, color, curve, arrow, mag, vector, rate,canvas, norm, mag2\n",
    "G = 6.7e-11\n",
    "sun=sphere(pos=vector(0,0,0), radius=2e10, color=color.red, \n",
    "                make_trail=True, trail_type='points', interval=10, retain=10)\n",
    "planet1=sphere(pos=vector(1.0e12,0,0), radius=1e10, color=color.yellow,\n",
    "                make_trail=True, retain=20)\n",
    "sun.mass = 2e30\n",
    "sun.momentum = vector(0, 0,0)\n",
    "planet1.mass = 1e30\n",
    "planet1.momentum = vector(0,0,0)\n",
    "Crash=0\n",
    "dt = 1e5\n",
    "time.sleep(5)\n",
    "while Crash==0:\n",
    "    rate(800)\n",
    "\n",
    "    r = sun.pos - planet1.pos\n",
    "    F = -G * sun.mass * planet1.mass * norm(r) / mag2(r)\n",
    "    planet1.momentum = planet1.momentum - F*dt\n",
    "    planet1.pos = planet1.pos + (planet1.momentum/planet1.mass) * dt\n",
    "    print (planet1.pos.x)\n",
    "    if (planet1.pos.x<2e10):\n",
    "        Crash=1      #got to near the sun.  Set collision flag"
   ]
  },
  {
   "cell_type": "code",
   "execution_count": 5,
   "metadata": {
    "collapsed": false
   },
   "outputs": [],
   "source": [
    "sun = sphere(pos=vector(0,0,0), radius=2e10, color=color.red, \n",
    "                make_trail=True, trail_type='points', interval=10, retain=10)\n",
    "G = 6.7e-11\n",
    "sun.mass = 2e30\n",
    "sun.momentum = vector(0, 0,0)\n",
    "planet1 = sphere(pos=vector(1.5e21,0,0), radius=1e10, color=color.yellow,\n",
    "                make_trail=True, retain=20)\n",
    "planet1.mass = 1e30\n",
    "planet1.momentum = vector(0,0,0)\n",
    "Crash=0\n",
    "dt = 1e5\n",
    "\n",
    "\n"
   ]
  },
  {
   "cell_type": "code",
   "execution_count": null,
   "metadata": {
    "collapsed": false
   },
   "outputs": [],
   "source": [
    "#create objects for display\n",
    "sun = sphere(pos=vector(0,0,0), radius=2e12, color=color.yellow)\n",
    "\n",
    "planet1 = sphere(pos=vector(1e20,0,0), radius=2.0e11, color=color.cyan)\n",
    "#trail1= curve()\n",
    "\n",
    "#planet2 = sphere(pos=vector(1e3,0,0), radius=1.0e11, color=color.blue)\n",
    "# ForceArrow2= arrow(shaftwidth=4.0,color=color.red)\n",
    "# MomentumArrow2= arrow(shaftwidth=4.0,color=color.green)\n",
    "#trail2= curve(color=color.yellow)"
   ]
  },
  {
   "cell_type": "code",
   "execution_count": null,
   "metadata": {
    "collapsed": true
   },
   "outputs": [],
   "source": [
    "# Setup initial conditions and constants before starting loop\n",
    "#Sun\n",
    "G=6.7E-11\n",
    "sun.mass   = 2.0E30\n",
    "sun.pos = vector(0,0,0)\n",
    "sun.momentum = vector(0,0,0)"
   ]
  },
  {
   "cell_type": "code",
   "execution_count": null,
   "metadata": {
    "collapsed": false
   },
   "outputs": [],
   "source": [
    "#Neptune\n",
    "planet1.mass = 1.0E26\n",
    "OrbitRadius1=4.5e12        \n",
    "speed1=0                  ##Edit  PUT IN CORRECT INITIAL SPEED\n",
    "planet1.pos = vector(OrbitRadius1,0,0)\n",
    "planet1.momentum = vector(0,speed1*planet1.mass,0)\n",
    "\n",
    "#Pluto\n",
    "#planet2.mass = 1.3e21\n",
    "#OrbitRadius2= 5.9e12       ##Edit\n",
    "#speed2= 0               ##Edit  PUT IN CORRECT INITIAL SPEED\n",
    "#planet2.pos = vector(OrbitRadius2,0,0)\n",
    "#planet2.momentum = vector(0,speed2*planet2.mass,0)\n",
    "\n",
    "print (\"Neptune:\")\n",
    "print (\"  initial speed is    \",speed1)\n",
    "print (\"  initial position is \",planet1.pos)\n",
    "print (\"  initial momentum is \",planet1.momentum)\n",
    "#print (\"Pluto:\")\n",
    "#print (\"  initial speed is    \",speed2)\n",
    "#print (\"  initial position is \",planet2.pos)\n",
    "#print (\"  initial momentum is \",planet2.momentum)"
   ]
  },
  {
   "cell_type": "code",
   "execution_count": null,
   "metadata": {
    "collapsed": true
   },
   "outputs": [],
   "source": [
    "Time=0.0\n",
    "dt=200000.          #Edit to change time step\n",
    "NumberOrbits=0      #Used to count number of Orbits\n",
    "quad=0              #Quandrant flag used to help count orbits\n",
    "CrashFlag=0         #Set to one if planet gets too near the Sun"
   ]
  },
  {
   "cell_type": "code",
   "execution_count": null,
   "metadata": {
    "collapsed": false,
    "run_control": {
     "marked": false
    }
   },
   "outputs": [],
   "source": [
    "while (NumberOrbits<1 and CrashFlag==0):\n",
    "    rate(100)\n",
    "#update Neptune position and momentum\n",
    "    planet1.force=     -G*(sun.mass*planet1.mass*planet1.pos)/(mag(planet1.pos)**3)  #Edit\n",
    "    planet1.momentum = planet1.momentum+ dt*(planet1.force)\n",
    "    planet1.pos =      planet1.pos + dt*planet1.momentum/planet1.mass\n",
    "#    trail1.append(pos=planet1.pos)           # add to trajectory \"trail\"\n",
    "\n",
    "#update Pluto position an momentum\n",
    "#    planet2.force = -G * sun.mass * planet2.mass * planet2.pos# / (mag(planet2.pos)**3)#Edit\n",
    "#    planet2.momentum = planet2.momentum+ dt*(planet2.force)\n",
    "#    planet2.pos =      planet2.pos + dt*planet2.momentum/planet2.mass\n",
    "#    trail2.append(pos=planet2.pos)\n",
    "\n",
    "#update Pluto's Momentum and Force Vectors   \n",
    "#    MomentumArrow2.pos=planet2.pos\n",
    "#    MomentumArrow2.axis=planet2.momentum*2e-13\n",
    "#    ForceArrow2.pos=planet2.pos\n",
    "#    ForceArrow2.axis= planet2.force*2.e-4\n",
    "    \n",
    "#update Time\n",
    "    Time=Time+dt\n",
    "\n",
    "#    if (quad==0)and(planet2.pos.x > 0.0)and(planet2.pos.y<0) :\n",
    "#        quad=1\n",
    "#    if (quad==1)and(planet2.pos.x >=0.0)and(planet2.pos.y>=0.0):\n",
    "#        quad=0\n",
    "#        NumberOrbits=NumberOrbits+1\n",
    "    if (mag(planet1.pos)<2.e11) :\n",
    "        CrashFlag=1      #got to near the sun.  Set collision flag\n",
    "if(CrashFlag==1):\n",
    "    Years=Time/(365*24*60*60)\n",
    "    print (\"Crash into Sun at\", Time, \"seconds \",Years,\" Years\")\n",
    "else :\n",
    "    Time=Time/NumberOrbits\n",
    "    Years=Time/(365*24*60*60)\n",
    "    print (\"Number of orbits \", NumberOrbits)\n",
    "    print (\"Planet 2 Period (time per orbit is)\", Time, \"seconds \",Years,\"Years\")"
   ]
  },
  {
   "cell_type": "code",
   "execution_count": null,
   "metadata": {
    "collapsed": false
   },
   "outputs": [],
   "source": [
    "from vpython import scene, sphere, color, curve, arrow, mag, vector, rate,canvas, mag2, norm\n",
    "scene = canvas(width=800, height=600)\n",
    "obj0 = sphere(pos=vector(0,0,0), radius=5e11,make_trail=True, retain=40)\n",
    "obj1 = sphere(pos=vector(5.0*10**12,0,0), radius=5e11,make_trail=True, trail_type='points', interval=10, retain=20)\n",
    "\n",
    "#some initial value\n",
    "G = 6.7E-11\n",
    "obj0.mass = 2.0E30\n",
    "obj0.momentum = vector(0,0,0)\n",
    "obj1.mass = 1.0E26\n",
    "obj1.momentum = vector(0,0,0)\n",
    "\n",
    "dt=200000.          \n",
    "CrashFlag=0         \n",
    "scene.autoscale=0\n",
    "while(CrashFlag==0&mag(obj1.pos)>2.0*10**11):\n",
    "    rate(1000)\n",
    "    obj1.force= -G*(obj0.mass*obj1.mass)*norm(obj1.pos)/(mag2(obj1.pos))\n",
    "    obj1.momentum = obj1.momentum+ dt*(obj1.force)\n",
    "    obj1.pos = obj1.pos + dt*obj1.momentum/obj1.mass"
   ]
  },
  {
   "cell_type": "code",
   "execution_count": null,
   "metadata": {
    "collapsed": true
   },
   "outputs": [],
   "source": []
  }
 ],
 "metadata": {
  "anaconda-cloud": {},
  "kernelspec": {
   "display_name": "VPython",
   "language": "python",
   "name": "vpython"
  },
  "language_info": {
   "codemirror_mode": {
    "name": "ipython",
    "version": 3
   },
   "file_extension": ".py",
   "mimetype": "text/x-python",
   "name": "python",
   "nbconvert_exporter": "python",
   "pygments_lexer": "ipython3",
   "version": "3.5.2"
  }
 },
 "nbformat": 4,
 "nbformat_minor": 0
}
