{
 "cells": [
  {
   "cell_type": "markdown",
   "metadata": {
    "collapsed": false
   },
   "source": [
    "# Orbits Lab\n",
    "\n",
    "Learning Goals:\n",
    "* Practice identifying and working with vectors.\n",
    "* Understand how the momentum principle can be used to update the momentum of an object. • Explain how forces change an object’s momentum.\n",
    "* Become more comfortable with interpreting code and output from a program.\n",
    "\n",
    "\n",
    "In this lab, we are going to model Neptune and Pluto as they orbit our Sun. We will use the Universal Law of Gravitation and Newton’s 2nd law (the momentum principle) to study properties of such orbits.\n",
    "\n",
    "\n",
    "\n",
    "\n",
    "## Part 0. Preparation (to be done before the lab)\n",
    "\n",
    "Fill in the following table, you should be able to calculate everything without Wikipedia!\n",
    "\n",
    "<table>\n",
    "<thead><tr><th>Planet</th><th>Mass (kg) $\\;\\;\\;\\;$</th><th>Avg Orbital Radius (m)</th><th>Orbital Period (s)</th><th>Speed (m/s)</th><th>Momentum (kg.m/s)</th></tr></thead>\n",
    "<tbody><tr><td>Sun</td><td>$2.0\\times10^{30}$</td><td>$-$</td><td>$-$</td><td>$-$</td><td>$-$</td></tr>\n",
    "<td>Earth</td><td>$6.0\\times10^{24}$</td><td>$1.5\\times10^{11}$</td><td>$3.16×10^7$</td><td>$3.0\\times10^4$</td><td>$1.8\\times10^{29}$</td></tr>\n",
    "<tr><td>Neptune</td><td>$1.0\\times10^{26}$</td><td>$4.5\\times10^{12}$</td><td>$5.21\\times10^9$</td><td></td><td></td></tr>\n",
    "<td>Pluto</td><td>$1.3\\times10^{21}$</td><td>$5.9\\times10^{12}$</td><td>$7.83\\times10^9$</td><td></td><td></td></tr>\n",
    "\n",
    "\n",
    "</tbody>\n",
    "</table></div>\n",
    "\n",
    "## Part 1. Creating objects and understanding the code\n",
    "\n",
    "First off, let's import the functions that we would like to use from the VPython library."
   ]
  },
  {
   "cell_type": "code",
   "execution_count": null,
   "metadata": {
    "collapsed": true
   },
   "outputs": [],
   "source": [
    "from vpython import  scene, sphere, color, curve, arrow, mag, vector, rate, canvas, norm, mag2"
   ]
  },
  {
   "cell_type": "markdown",
   "metadata": {},
   "source": [
    "Now let's create the sun and 2 planets as spheres. Let's use some arbitrary numbers for simplicity, and we can use realistic numbers later.  Let's also give them mass, and no initial speed/momentum."
   ]
  },
  {
   "cell_type": "code",
   "execution_count": null,
   "metadata": {
    "collapsed": true
   },
   "outputs": [],
   "source": [
    "sun=sphere(pos=vector(0,0,0), radius=2e10, color=color.red, \n",
    "                make_trail=True, trail_type='points', interval=10, retain=10)\n",
    "planet1=sphere(pos=vector(1.0e12,0,0), radius=1e10, color=color.yellow,\n",
    "                make_trail=True, retain=20)\n",
    "planet2=sphere(pos=vector(2.0e12,0,0), radius=1e10,\n",
    "                make_trail=True, retain=20)\n",
    "sun.mass = 2e30\n",
    "sun.momentum = vector(0, 0,0)\n",
    "planet1.mass = 1e30\n",
    "planet1.momentum = vector(0,0,0)\n",
    "planet2.mass = 1e30\n",
    "planet2.momentum = vector(0,0,0)"
   ]
  },
  {
   "cell_type": "markdown",
   "metadata": {},
   "source": [
    "Finally, let's  set some initial values that we would like to use. Our initial program is just gonna introduce gravity and update the positions of the planets. They will head directly towards the Sun and crash into it. We want to stop the program when the first planet crashes into the sun. So first we need values for  G, a timestep dt, and a crash flag."
   ]
  },
  {
   "cell_type": "code",
   "execution_count": null,
   "metadata": {
    "collapsed": true
   },
   "outputs": [],
   "source": [
    "G = 6.7e-11\n",
    "Crash=0\n",
    "dt = 1e5"
   ]
  },
  {
   "cell_type": "markdown",
   "metadata": {},
   "source": [
    "Now let's run the loop and see what happens. Identify the gravitational force equations. norm() is a function that returns a unit vector, and mag2() is a function that returns the squared magnitude of a vector. We could just as well write it as r/mag(r)**3, but that would run much slower because of how Python is written. You'll notice we're using a function called sleep from a library called time. This will just delay starting the loop by 5 seconds, giving you time to scroll up and prepare.  The if statement at the end tells the program to raise a crash flag if planet 1 gets too close to the sun."
   ]
  },
  {
   "cell_type": "code",
   "execution_count": null,
   "metadata": {
    "collapsed": false,
    "scrolled": false
   },
   "outputs": [],
   "source": [
    "import time\n",
    "time.sleep(5)\n",
    "while Crash==0:\n",
    "    rate(800)\n",
    "    r = sun.pos - planet1.pos\n",
    "    F1 = -G * sun.mass * planet1.mass * norm(r) / mag2(r)\n",
    "    F2 = -G * sun.mass * planet2.mass * norm(r) / mag2(r)\n",
    "    planet1.momentum = planet1.momentum - F1*dt\n",
    "    planet1.pos = planet1.pos + (planet1.momentum/planet1.mass) * dt\n",
    "    planet2.momentum = planet2.momentum - F2*dt\n",
    "    planet2.pos = planet2.pos + (planet2.momentum/planet2.mass) * dt\n",
    "    if (planet1.pos.x<2e10):\n",
    "        Crash=1"
   ]
  },
  {
   "cell_type": "markdown",
   "metadata": {},
   "source": [
    "** NOTE: Try not to interrupt loops. If you do, that's okay, you just have to restart the kernel, by going to Kernel → Restart (or Restart & Clean Output). After that you have to re-import libraries and re-define variables before you run the loop.**"
   ]
  },
  {
   "cell_type": "markdown",
   "metadata": {},
   "source": [
    "* Notice we chose a time-step of $1\\times10^5 $s, can we identify how many times were the positions and momenta of the planets updated without any more information? If so, do so, if not, why not? Think about the equations of motion for an accelerating particle. \n",
    "\n",
    "\n",
    "$\\;$\n",
    "\n",
    "$\\;$\n",
    "\n",
    "$\\;$\n",
    "\n",
    "\n",
    "* What happens if you increase the time-step by too much? (try it!)\n",
    "\n",
    "\n",
    "\n",
    "$\\;$\n",
    "\n",
    "$\\;$\n",
    "\n",
    "* You may have noticed that planet 1 crashes into the Sun before planet 2 gets to where planet 1 started, even though the sun and planet 2 were at equal distances from planet 1. Why is that?\n",
    "\n",
    "$\\;$\n",
    "\n",
    "$\\;$\n",
    "\n",
    "Now let's get them to move around the Sun in simple circular orbits. How do we do this? From the lectures, we know that to get circular orbital motion, we have to give the planets initial velocity in a perpendicular direction to the orbital radius. If we start them off on a $y=0$ line, then we can add momentum in the $y$ direction to get them into orbits.\n",
    "\n",
    "* Derive an equation for this critical velocity as planet of mass M has to have to move in a circular orbit of orbital radius R.\n",
    "\n",
    "$\\;$\n",
    "\n",
    "$\\;$\n",
    "\n",
    "$\\;$\n",
    "\n",
    "\n",
    "First let's re-initialise their positions, and momenta. Now you should use the values you calculated from the table. You should also edit the masses into realistic ones. To do this, enter appropriate values for the following variables. Let planet 1 be Neptune and planet 2 be Pluto."
   ]
  },
  {
   "cell_type": "code",
   "execution_count": null,
   "metadata": {
    "collapsed": false,
    "scrolled": true
   },
   "outputs": [],
   "source": [
    "sun.mass = \n",
    "planet1.mass = \n",
    "planet2.mass = \n",
    "planet1.radius =\n",
    "planet2.radius = \n",
    "planet1.momentum = vector(,,) # add x, y and z values\n",
    "planet2.momentum = vector(,,)\n",
    "planet1.pos = vector(,,)\n",
    "planet2.pos = vector(,,)\n",
    "Crash=0 # initially"
   ]
  },
  {
   "cell_type": "markdown",
   "metadata": {},
   "source": [
    "That's it! Let's run the same loop again, with a few exceptions:\n",
    "* our crash flag was one dimensional and too simple for this, now we're being more precise with it.  \n",
    "* Let's also ask VPython not to autoscale the simulation while it's running by setting autoscale=0 \n",
    "* Now with only a crash flag stopping the simulation, it's gonna run forever (unless we typed something wrong and the Neptune crashed into the sun.) Let's add a new way to stop the simulation. One way to do this is to determine the number of orbits we want one of the planets to make before the simulation ends. Check the 2 new if statements to see how we can implement this."
   ]
  },
  {
   "cell_type": "code",
   "execution_count": null,
   "metadata": {
    "collapsed": true
   },
   "outputs": [],
   "source": [
    "import time\n",
    "time.sleep(5)\n",
    "scene.autosscale = 0\n",
    "NumberOrbits = 0 # initially\n",
    "while (Crash==0 & NumberOrbits<1):\n",
    "    rate(800)\n",
    "    r = sun.pos - planet1.pos\n",
    "    F1 = -G * sun.mass * planet1.mass * norm(r) / mag2(r)\n",
    "    F2 = -G * sun.mass * planet2.mass * norm(r) / mag2(r)\n",
    "    planet1.momentum = planet1.momentum - F1*dt\n",
    "    planet1.pos = planet1.pos + (planet1.momentum/planet1.mass) * dt\n",
    "    planet2.momentum = planet2.momentum - F2*dt\n",
    "    planet2.pos = planet2.pos + (planet2.momentum/planet2.mass) * dt\n",
    "    if ((fabs(planet1.pos.x)<2e10) & (fabs(planet1.pos.y)<2e10)):\n",
    "        Crash=1\n",
    "    if (quad==0)and(planet2.pos.x > 0.0)and(planet2.pos.y<0):\n",
    "        quad=1\n",
    "    if (quad==1)and(planet2.pos.x >=0.0)and(planet2.pos.y>=0.0):\n",
    "        quad=0\n",
    "        NumberOrbits=NumberOrbits+1"
   ]
  },
  {
   "cell_type": "markdown",
   "metadata": {},
   "source": [
    "## Part 2: Pluto's Elliptical Orbit\n",
    "\n",
    "At this point, the orbits for Neptune and Pluto shown by the program should appear nearly circular. This is accurate for Neptune, but not for Pluto. In reality, Pluto follows an elliptical orbit. Pluto reaches a maximum distance from the sun of $7.4\\times10^{12}m$ and a minimum distance of $4.3\\times10^{12}m$. The orbital radius in the table represents an average distance. You can use the program to explore elliptical orbits.\n",
    "* Set the initial position of Pluto to be $4.3\\times10^{12}m$ (Pluto’s minimum distance from the Sun) and run the program. Its orbital period will now be too small.\n",
    "* Adjust Pluto’s initial speed until you get a result close to the actual period of 248 years. *Hint: Adjust your initial speed by $10\\%$ and see if the resulting period is closer or further from the correct period.*\n",
    "\n",
    "Continue making $10\\%$ adjustments until you get close, then make smaller adjustments. Try to get the correct period within 1 or 2 years.\n",
    "Use the graphical output to estimate Pluto’s maximum distance from the Sun. Check to see if it agrees with the information above. *Hint: You know the minimum distance, use that as a scale.*"
   ]
  },
  {
   "cell_type": "markdown",
   "metadata": {},
   "source": [
    "* Draw a sketch of Pluto’s orbit. On the sketch, mark the 2 points that the momentum and force are 90° to each other. Also indicate the segments of the path where Pluto is speeding up and slowing down (If you are interested in this speeding up and slowing down, check out [Kepler's Laws](https://en.wikipedia.org/wiki/Kepler's_laws_of_planetary_motion))\n",
    "*Hint: If you would like to see momentum and force vectors in the simulation, you can ask VPython to add them by running something like*\n",
    "        ForceArrow2 = arrow(shaftwidth=4.0,color=color.red)\n",
    "        MomentumArrow2 = arrow(shaftwidth=4.0,color=color.green)\n",
    "*and then updating their momenta and direction inside the loop by adding *\n",
    "        MomentumArrow2.pos  = planet2.pos\n",
    "        MomentumArrow2.axis = planet2.momentum*2e-13\n",
    "        ForceArrow2.pos  = planet2.pos\n",
    "        ForceArrow2.axis = planet2.force*2.e-4\n",
    "\n",
    "$\\;$\n",
    "\n",
    "$\\;$\n",
    "\n",
    "$\\;$\n",
    "\n",
    "$\\;$\n",
    "\n",
    "$\\;$\n",
    "\n",
    "$\\;$\n",
    "\n",
    "$\\;$\n",
    "\n",
    "\n",
    "* Why does Pluto speed up when the momentum and the force make an angle smaller than 90°?\n",
    "\n",
    "$\\;$\n",
    "\n",
    "$\\;$\n",
    "\n",
    "$\\;$\n",
    "\n",
    "$\\;$\n",
    "* When the force and momentum are at 90° is Pluto’s velocity changing? Explain.\n",
    "\n",
    "$\\;$\n",
    "\n",
    "$\\;$\n",
    "\n",
    "$\\;$\n",
    "\n",
    "## Part 3: Neptune $-$ Pluto Interaction\n",
    "\n",
    "Notice that sometimes Pluto comes inside Neptune’s orbit! Because the ratio of Neptune’s period to Pluto’s period is 2:3, the two planets get very near each other periodically.\n",
    "\n",
    "Modify your program to include the gravitational interaction between Neptune and Pluto. Since this interaction is only important when the two planets are near each other, increase the number of Pluto orbits to more than 6 and see what happens.\n",
    "\n",
    "Below is the same loop that we used above. Use the hints in it to edit or add some lines as appropriate. First you also have to run one of the cells above that returns all the planets to their initial positions, momenta, etc."
   ]
  },
  {
   "cell_type": "code",
   "execution_count": null,
   "metadata": {
    "collapsed": true
   },
   "outputs": [],
   "source": [
    "import time\n",
    "time.sleep(5)\n",
    "scene.autosscale = 0\n",
    "NumberOrbits = 0 # initially\n",
    "while (Crash==0 & NumberOrbits<1): # edit number of orbits\n",
    "    rate(800)\n",
    "    r = sun.pos - planet1.pos\n",
    "    # add line to calculate the position vector between neptune and pluto\n",
    "    F1 = -G * sun.mass * planet1.mass * norm(r) / mag2(r) # + neptune-pluto interaction\n",
    "    F2 = -G * sun.mass * planet2.mass * norm(r) / mag2(r) # + neptune pluto interaction\n",
    "    planet1.momentum = planet1.momentum - F1*dt\n",
    "    planet1.pos = planet1.pos + (planet1.momentum/planet1.mass) * dt\n",
    "    planet2.momentum = planet2.momentum - F2*dt\n",
    "    planet2.pos = planet2.pos + (planet2.momentum/planet2.mass) * dt\n",
    "    if ((fabs(planet1.pos.x)<2e10) & (fabs(planet1.pos.y)<2e10)):\n",
    "        Crash=1\n",
    "    if (quad==0)and(planet2.pos.x > 0.0)and(planet2.pos.y<0):\n",
    "        quad=1\n",
    "    if (quad==1)and(planet2.pos.x >=0.0)and(planet2.pos.y>=0.0):\n",
    "        quad=0\n",
    "        NumberOrbits=NumberOrbits+1"
   ]
  },
  {
   "cell_type": "markdown",
   "metadata": {},
   "source": [
    "TA check: $___________$"
   ]
  }
 ],
 "metadata": {
  "anaconda-cloud": {},
  "kernelspec": {
   "display_name": "VPython",
   "language": "python",
   "name": "vpython"
  },
  "language_info": {
   "codemirror_mode": {
    "name": "ipython",
    "version": 3
   },
   "file_extension": ".py",
   "mimetype": "text/x-python",
   "name": "python",
   "nbconvert_exporter": "python",
   "pygments_lexer": "ipython3",
   "version": "3.5.2"
  }
 },
 "nbformat": 4,
 "nbformat_minor": 0
}
