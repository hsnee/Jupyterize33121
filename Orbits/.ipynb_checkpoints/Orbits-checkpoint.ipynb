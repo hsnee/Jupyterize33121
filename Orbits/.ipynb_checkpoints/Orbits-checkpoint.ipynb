{
 "cells": [
  {
   "cell_type": "code",
   "execution_count": 1,
   "metadata": {
    "collapsed": false
   },
   "outputs": [
    {
     "data": {
      "application/javascript": [
       "require.undef(\"nbextensions/jquery-ui.custom.min\");"
      ],
      "text/plain": [
       "<IPython.core.display.Javascript object>"
      ]
     },
     "metadata": {},
     "output_type": "display_data"
    },
    {
     "data": {
      "application/javascript": [
       "require.undef(\"nbextensions/glow.2.1a.min\");"
      ],
      "text/plain": [
       "<IPython.core.display.Javascript object>"
      ]
     },
     "metadata": {},
     "output_type": "display_data"
    },
    {
     "data": {
      "application/javascript": [
       "require.undef(\"nbextensions/glow.2.1b.min\");"
      ],
      "text/plain": [
       "<IPython.core.display.Javascript object>"
      ]
     },
     "metadata": {},
     "output_type": "display_data"
    },
    {
     "data": {
      "application/javascript": [
       "require.undef(\"nbextensions/glowcomm\");"
      ],
      "text/plain": [
       "<IPython.core.display.Javascript object>"
      ]
     },
     "metadata": {},
     "output_type": "display_data"
    },
    {
     "data": {
      "application/javascript": [
       "require([\"nbextensions/glowcomm\"], function(){console.log(\"glowcomm loaded\");})"
      ],
      "text/plain": [
       "<IPython.core.display.Javascript object>"
      ]
     },
     "metadata": {},
     "output_type": "display_data"
    },
    {
     "data": {
      "text/html": [
       "<div id=\"glowscript\" class=\"glowscript\"></div>"
      ],
      "text/plain": [
       "<IPython.core.display.HTML object>"
      ]
     },
     "metadata": {},
     "output_type": "display_data"
    },
    {
     "data": {
      "application/javascript": [
       "window.__context = { glowscript_container: $(\"#glowscript\").removeAttr(\"id\")}"
      ],
      "text/plain": [
       "<IPython.core.display.Javascript object>"
      ]
     },
     "metadata": {},
     "output_type": "display_data"
    }
   ],
   "source": [
    "from vpython import scene, sphere, color, curve, arrow, mag, vector, rate"
   ]
  },
  {
   "cell_type": "code",
   "execution_count": 2,
   "metadata": {
    "collapsed": false
   },
   "outputs": [],
   "source": [
    "#The following \"scene\" lines setup the display.  Don't worry abou them.\n",
    "scene.title = 'Planetary Orbit'\n",
    "# scene.width= 800\n",
    "# scene.height= 800\n",
    "# scene.autoscale=0                    ##turn off display autoscaling\n",
    "# scene.range=vector(1e13,1e13,1e13)"
   ]
  },
  {
   "cell_type": "code",
   "execution_count": 3,
   "metadata": {
    "collapsed": false
   },
   "outputs": [],
   "source": [
    "#create objects for display\n",
    "sun = sphere(pos=vector(0,0,0), radius=2e12, color=color.yellow)\n",
    "\n",
    "planet1 = sphere(pos=vector(1e20,0,0), radius=2.0e11, color=color.cyan)\n",
    "trail1= curve()\n",
    "\n",
    "planet2 = sphere(pos=vector(1e3,0,0), radius=1.0e11, color=color.blue)\n",
    "ForceArrow2= arrow(shaftwidth=4.0,color=color.red)\n",
    "MomentumArrow2= arrow(shaftwidth=4.0,color=color.green)\n",
    "trail2= curve(color=color.yellow)"
   ]
  },
  {
   "cell_type": "code",
   "execution_count": 4,
   "metadata": {
    "collapsed": true
   },
   "outputs": [],
   "source": [
    "# Setup initial conditions and constants before starting loop\n",
    "#Sun\n",
    "G=6.7E-11\n",
    "sun.mass   = 2.0E30\n",
    "sun.pos = vector(0,0,0)\n",
    "sun.momentum = vector(0,0,0)"
   ]
  },
  {
   "cell_type": "code",
   "execution_count": 5,
   "metadata": {
    "collapsed": false
   },
   "outputs": [
    {
     "name": "stdout",
     "output_type": "stream",
     "text": [
      "Neptune:\n",
      "  initial speed is     0\n",
      "  initial position is  <4500000000000.000000, 0.000000, 0.000000>\n",
      "  initial momentum is  <0.000000, 0.000000, 0.000000>\n",
      "Pluto:\n",
      "  initial speed is     0\n",
      "  initial position is  <5900000000000.000000, 0.000000, 0.000000>\n",
      "  initial momentum is  <0.000000, 0.000000, 0.000000>\n"
     ]
    }
   ],
   "source": [
    "#Neptune\n",
    "planet1.mass = 1.0E26\n",
    "OrbitRadius1=4.5e12        \n",
    "speed1=0                  ##Edit  PUT IN CORRECT INITIAL SPEED\n",
    "planet1.pos = vector(OrbitRadius1,0,0)\n",
    "planet1.momentum = vector(0,speed1*planet1.mass,0)\n",
    "\n",
    "#Pluto\n",
    "planet2.mass = 1.3e21\n",
    "OrbitRadius2= 5.9e12       ##Edit\n",
    "speed2= 0               ##Edit  PUT IN CORRECT INITIAL SPEED\n",
    "planet2.pos = vector(OrbitRadius2,0,0)\n",
    "planet2.momentum = vector(0,speed2*planet2.mass,0)\n",
    "\n",
    "print (\"Neptune:\")\n",
    "print (\"  initial speed is    \",speed1)\n",
    "print (\"  initial position is \",planet1.pos)\n",
    "print (\"  initial momentum is \",planet1.momentum)\n",
    "print (\"Pluto:\")\n",
    "print (\"  initial speed is    \",speed2)\n",
    "print (\"  initial position is \",planet2.pos)\n",
    "print (\"  initial momentum is \",planet2.momentum)\n",
    "\n",
    "\n"
   ]
  },
  {
   "cell_type": "code",
   "execution_count": 6,
   "metadata": {
    "collapsed": true
   },
   "outputs": [],
   "source": [
    "Time=0.0\n",
    "dt=200000.          #Edit to change time step\n",
    "NumberOrbits=0      #Used to count number of Orbits\n",
    "quad=0              #Quandrant flag used to help count orbits\n",
    "CrashFlag=0         #Set to one if planet gets too near the Sun"
   ]
  },
  {
   "cell_type": "code",
   "execution_count": 7,
   "metadata": {
    "collapsed": false
   },
   "outputs": [
    {
     "name": "stdout",
     "output_type": "stream",
     "text": [
      "Crash into Sun at 912200000.0 seconds  28.925672247590057  Years\n"
     ]
    }
   ],
   "source": [
    "while (NumberOrbits<1 and CrashFlag==0):\n",
    "    rate(5000)\n",
    "#update Neptune position and momentum\n",
    "    planet1.force=     -G*(sun.mass*planet1.mass*planet1.pos)/(mag(planet1.pos)**3)  #Edit\n",
    "    planet1.momentum = planet1.momentum+ dt*(planet1.force)\n",
    "    planet1.pos =      planet1.pos + dt*planet1.momentum/planet1.mass\n",
    "    trail1.append(pos=planet1.pos)           # add to trajectory \"trail\"\n",
    "\n",
    "#update Pluto position an momentum\n",
    "    planet2.force = -G * sun.mass * planet2.mass * planet2.pos / (mag(planet2.pos)**3)#Edit\n",
    "    planet2.momentum = planet2.momentum+ dt*(planet2.force)\n",
    "    planet2.pos =      planet2.pos + dt*planet2.momentum/planet2.mass\n",
    "    trail2.append(pos=planet2.pos)\n",
    "\n",
    "#update Pluto's Momentum and Force Vectors   \n",
    "    MomentumArrow2.pos=planet2.pos\n",
    "    MomentumArrow2.axis=planet2.momentum*2e-13\n",
    "    ForceArrow2.pos=planet2.pos\n",
    "    ForceArrow2.axis= planet2.force*2.e-4\n",
    "    \n",
    "#update Time\n",
    "    Time=Time+dt\n",
    "\n",
    "    if (quad==0)and(planet2.pos.x > 0.0)and(planet2.pos.y<0) :\n",
    "        quad=1\n",
    "    if (quad==1)and(planet2.pos.x >=0.0)and(planet2.pos.y>=0.0):\n",
    "        quad=0\n",
    "        NumberOrbits=NumberOrbits+1\n",
    "    if (mag(planet1.pos)<2.e11) :\n",
    "        CrashFlag=1      #got to near the sun.  Set collision flag\n",
    "#\n",
    "# Breakout, we are done.\n",
    "#\n",
    "\n",
    "if(CrashFlag==1):\n",
    "    Years=Time/(365*24*60*60)\n",
    "    print (\"Crash into Sun at\", Time, \"seconds \",Years,\" Years\")\n",
    "else :\n",
    "    Time=Time/NumberOrbits\n",
    "    Years=Time/(365*24*60*60)\n",
    "    print (\"Number of orbits \", NumberOrbits)\n",
    "    print (\"Planet 2 Period (time per orbit is)\", Time, \"seconds \",Years,\"Years\")"
   ]
  },
  {
   "cell_type": "code",
   "execution_count": null,
   "metadata": {
    "collapsed": true
   },
   "outputs": [],
   "source": []
  }
 ],
 "metadata": {
  "kernelspec": {
   "display_name": "Python 3",
   "language": "python",
   "name": "python3"
  },
  "language_info": {
   "codemirror_mode": {
    "name": "ipython",
    "version": 3
   },
   "file_extension": ".py",
   "mimetype": "text/x-python",
   "name": "python",
   "nbconvert_exporter": "python",
   "pygments_lexer": "ipython3",
   "version": "3.5.0"
  },
  "widgets": {
   "state": {},
   "version": "1.1.2"
  }
 },
 "nbformat": 4,
 "nbformat_minor": 0
}
